{
 "cells": [
  {
   "cell_type": "markdown",
   "id": "6bcfd958",
   "metadata": {},
   "source": [
    "# Исследование объявлений о продаже квартир\n",
    "\n",
    "В вашем распоряжении данные сервиса Яндекс.Недвижимость — архив объявлений о продаже квартир в Санкт-Петербурге и соседних населённых пунктов за несколько лет. Нужно научиться определять рыночную стоимость объектов недвижимости. Ваша задача — установить параметры. Это позволит построить автоматизированную систему: она отследит аномалии и мошенническую деятельность. \n",
    "\n",
    "По каждой квартире на продажу доступны два вида данных. Первые вписаны пользователем, вторые — получены автоматически на основе картографических данных. Например, расстояние до центра, аэропорта, ближайшего парка и водоёма. "
   ]
  },
  {
   "cell_type": "markdown",
   "id": "d1730fd6",
   "metadata": {},
   "source": [
    "<div> <b>Цель исследования:</b><br>\n",
    "    1. Изучить влияние параметров жилья на его стоимость.<br>\n",
    "    2. Изучить влияние географии на стоимость жилья.<br>\n",
    "    3. Оценить влияние дня недели и месяца на количество объявлений<br><br>\n",
    "    <b>Ход исследования:</b><br>\n",
    "    1. После выгрузки таблицы посмотрим на данные, постараемся избавиться от пропусков и дубликатов.<br>\n",
    "    2. Посчитаем дополнительные характеристики жилья.<br>\n",
    "    <ul>\n",
    "         <li>цена одного квадратного метра;</li>\n",
    "         <li>день недели, месяц и год публикации объявления </li>\n",
    "         <li>тип этажа квартиры</li>\n",
    "         <li>расстояние до центра города в километрах</li>\n",
    "    </ul>\n",
    "    3. Изучим распределения значений по колонкам.<br>\n",
    "    4. Исследуем влияние параметров жилья на цену и количество объявлений. \n",
    "    </div>"
   ]
  },
  {
   "cell_type": "markdown",
   "id": "67c6d06b",
   "metadata": {},
   "source": [
    "### Откройте файл с данными и изучите общую информацию. \n",
    "#### Информация о таблице"
   ]
  },
  {
   "cell_type": "code",
   "execution_count": 1,
   "id": "10eae03a",
   "metadata": {
    "scrolled": false
   },
   "outputs": [
    {
     "data": {
      "text/html": [
       "<div>\n",
       "<style scoped>\n",
       "    .dataframe tbody tr th:only-of-type {\n",
       "        vertical-align: middle;\n",
       "    }\n",
       "\n",
       "    .dataframe tbody tr th {\n",
       "        vertical-align: top;\n",
       "    }\n",
       "\n",
       "    .dataframe thead th {\n",
       "        text-align: right;\n",
       "    }\n",
       "</style>\n",
       "<table border=\"1\" class=\"dataframe\">\n",
       "  <thead>\n",
       "    <tr style=\"text-align: right;\">\n",
       "      <th></th>\n",
       "      <th>total_images</th>\n",
       "      <th>last_price</th>\n",
       "      <th>total_area</th>\n",
       "      <th>first_day_exposition</th>\n",
       "      <th>rooms</th>\n",
       "      <th>ceiling_height</th>\n",
       "      <th>floors_total</th>\n",
       "      <th>living_area</th>\n",
       "      <th>floor</th>\n",
       "      <th>is_apartment</th>\n",
       "      <th>...</th>\n",
       "      <th>kitchen_area</th>\n",
       "      <th>balcony</th>\n",
       "      <th>locality_name</th>\n",
       "      <th>airports_nearest</th>\n",
       "      <th>cityCenters_nearest</th>\n",
       "      <th>parks_around3000</th>\n",
       "      <th>parks_nearest</th>\n",
       "      <th>ponds_around3000</th>\n",
       "      <th>ponds_nearest</th>\n",
       "      <th>days_exposition</th>\n",
       "    </tr>\n",
       "  </thead>\n",
       "  <tbody>\n",
       "    <tr>\n",
       "      <th>0</th>\n",
       "      <td>20</td>\n",
       "      <td>13000000.0</td>\n",
       "      <td>108.0</td>\n",
       "      <td>2019-03-07T00:00:00</td>\n",
       "      <td>3</td>\n",
       "      <td>2.70</td>\n",
       "      <td>16.0</td>\n",
       "      <td>51.0</td>\n",
       "      <td>8</td>\n",
       "      <td>NaN</td>\n",
       "      <td>...</td>\n",
       "      <td>25.0</td>\n",
       "      <td>NaN</td>\n",
       "      <td>Санкт-Петербург</td>\n",
       "      <td>18863.0</td>\n",
       "      <td>16028.0</td>\n",
       "      <td>1.0</td>\n",
       "      <td>482.0</td>\n",
       "      <td>2.0</td>\n",
       "      <td>755.0</td>\n",
       "      <td>NaN</td>\n",
       "    </tr>\n",
       "    <tr>\n",
       "      <th>1</th>\n",
       "      <td>7</td>\n",
       "      <td>3350000.0</td>\n",
       "      <td>40.4</td>\n",
       "      <td>2018-12-04T00:00:00</td>\n",
       "      <td>1</td>\n",
       "      <td>NaN</td>\n",
       "      <td>11.0</td>\n",
       "      <td>18.6</td>\n",
       "      <td>1</td>\n",
       "      <td>NaN</td>\n",
       "      <td>...</td>\n",
       "      <td>11.0</td>\n",
       "      <td>2.0</td>\n",
       "      <td>посёлок Шушары</td>\n",
       "      <td>12817.0</td>\n",
       "      <td>18603.0</td>\n",
       "      <td>0.0</td>\n",
       "      <td>NaN</td>\n",
       "      <td>0.0</td>\n",
       "      <td>NaN</td>\n",
       "      <td>81.0</td>\n",
       "    </tr>\n",
       "    <tr>\n",
       "      <th>2</th>\n",
       "      <td>10</td>\n",
       "      <td>5196000.0</td>\n",
       "      <td>56.0</td>\n",
       "      <td>2015-08-20T00:00:00</td>\n",
       "      <td>2</td>\n",
       "      <td>NaN</td>\n",
       "      <td>5.0</td>\n",
       "      <td>34.3</td>\n",
       "      <td>4</td>\n",
       "      <td>NaN</td>\n",
       "      <td>...</td>\n",
       "      <td>8.3</td>\n",
       "      <td>0.0</td>\n",
       "      <td>Санкт-Петербург</td>\n",
       "      <td>21741.0</td>\n",
       "      <td>13933.0</td>\n",
       "      <td>1.0</td>\n",
       "      <td>90.0</td>\n",
       "      <td>2.0</td>\n",
       "      <td>574.0</td>\n",
       "      <td>558.0</td>\n",
       "    </tr>\n",
       "    <tr>\n",
       "      <th>3</th>\n",
       "      <td>0</td>\n",
       "      <td>64900000.0</td>\n",
       "      <td>159.0</td>\n",
       "      <td>2015-07-24T00:00:00</td>\n",
       "      <td>3</td>\n",
       "      <td>NaN</td>\n",
       "      <td>14.0</td>\n",
       "      <td>NaN</td>\n",
       "      <td>9</td>\n",
       "      <td>NaN</td>\n",
       "      <td>...</td>\n",
       "      <td>NaN</td>\n",
       "      <td>0.0</td>\n",
       "      <td>Санкт-Петербург</td>\n",
       "      <td>28098.0</td>\n",
       "      <td>6800.0</td>\n",
       "      <td>2.0</td>\n",
       "      <td>84.0</td>\n",
       "      <td>3.0</td>\n",
       "      <td>234.0</td>\n",
       "      <td>424.0</td>\n",
       "    </tr>\n",
       "    <tr>\n",
       "      <th>4</th>\n",
       "      <td>2</td>\n",
       "      <td>10000000.0</td>\n",
       "      <td>100.0</td>\n",
       "      <td>2018-06-19T00:00:00</td>\n",
       "      <td>2</td>\n",
       "      <td>3.03</td>\n",
       "      <td>14.0</td>\n",
       "      <td>32.0</td>\n",
       "      <td>13</td>\n",
       "      <td>NaN</td>\n",
       "      <td>...</td>\n",
       "      <td>41.0</td>\n",
       "      <td>NaN</td>\n",
       "      <td>Санкт-Петербург</td>\n",
       "      <td>31856.0</td>\n",
       "      <td>8098.0</td>\n",
       "      <td>2.0</td>\n",
       "      <td>112.0</td>\n",
       "      <td>1.0</td>\n",
       "      <td>48.0</td>\n",
       "      <td>121.0</td>\n",
       "    </tr>\n",
       "  </tbody>\n",
       "</table>\n",
       "<p>5 rows × 22 columns</p>\n",
       "</div>"
      ],
      "text/plain": [
       "   total_images  last_price  total_area first_day_exposition  rooms  \\\n",
       "0            20  13000000.0       108.0  2019-03-07T00:00:00      3   \n",
       "1             7   3350000.0        40.4  2018-12-04T00:00:00      1   \n",
       "2            10   5196000.0        56.0  2015-08-20T00:00:00      2   \n",
       "3             0  64900000.0       159.0  2015-07-24T00:00:00      3   \n",
       "4             2  10000000.0       100.0  2018-06-19T00:00:00      2   \n",
       "\n",
       "   ceiling_height  floors_total  living_area  floor is_apartment  ...  \\\n",
       "0            2.70          16.0         51.0      8          NaN  ...   \n",
       "1             NaN          11.0         18.6      1          NaN  ...   \n",
       "2             NaN           5.0         34.3      4          NaN  ...   \n",
       "3             NaN          14.0          NaN      9          NaN  ...   \n",
       "4            3.03          14.0         32.0     13          NaN  ...   \n",
       "\n",
       "   kitchen_area  balcony    locality_name  airports_nearest  \\\n",
       "0          25.0      NaN  Санкт-Петербург           18863.0   \n",
       "1          11.0      2.0   посёлок Шушары           12817.0   \n",
       "2           8.3      0.0  Санкт-Петербург           21741.0   \n",
       "3           NaN      0.0  Санкт-Петербург           28098.0   \n",
       "4          41.0      NaN  Санкт-Петербург           31856.0   \n",
       "\n",
       "  cityCenters_nearest  parks_around3000  parks_nearest  ponds_around3000  \\\n",
       "0             16028.0               1.0          482.0               2.0   \n",
       "1             18603.0               0.0            NaN               0.0   \n",
       "2             13933.0               1.0           90.0               2.0   \n",
       "3              6800.0               2.0           84.0               3.0   \n",
       "4              8098.0               2.0          112.0               1.0   \n",
       "\n",
       "   ponds_nearest  days_exposition  \n",
       "0          755.0              NaN  \n",
       "1            NaN             81.0  \n",
       "2          574.0            558.0  \n",
       "3          234.0            424.0  \n",
       "4           48.0            121.0  \n",
       "\n",
       "[5 rows x 22 columns]"
      ]
     },
     "metadata": {},
     "output_type": "display_data"
    },
    {
     "name": "stdout",
     "output_type": "stream",
     "text": [
      "<class 'pandas.core.frame.DataFrame'>\n",
      "RangeIndex: 23699 entries, 0 to 23698\n",
      "Data columns (total 22 columns):\n",
      " #   Column                Non-Null Count  Dtype  \n",
      "---  ------                --------------  -----  \n",
      " 0   total_images          23699 non-null  int64  \n",
      " 1   last_price            23699 non-null  float64\n",
      " 2   total_area            23699 non-null  float64\n",
      " 3   first_day_exposition  23699 non-null  object \n",
      " 4   rooms                 23699 non-null  int64  \n",
      " 5   ceiling_height        14504 non-null  float64\n",
      " 6   floors_total          23613 non-null  float64\n",
      " 7   living_area           21796 non-null  float64\n",
      " 8   floor                 23699 non-null  int64  \n",
      " 9   is_apartment          2775 non-null   object \n",
      " 10  studio                23699 non-null  bool   \n",
      " 11  open_plan             23699 non-null  bool   \n",
      " 12  kitchen_area          21421 non-null  float64\n",
      " 13  balcony               12180 non-null  float64\n",
      " 14  locality_name         23650 non-null  object \n",
      " 15  airports_nearest      18157 non-null  float64\n",
      " 16  cityCenters_nearest   18180 non-null  float64\n",
      " 17  parks_around3000      18181 non-null  float64\n",
      " 18  parks_nearest         8079 non-null   float64\n",
      " 19  ponds_around3000      18181 non-null  float64\n",
      " 20  ponds_nearest         9110 non-null   float64\n",
      " 21  days_exposition       20518 non-null  float64\n",
      "dtypes: bool(2), float64(14), int64(3), object(3)\n",
      "memory usage: 3.7+ MB\n"
     ]
    },
    {
     "data": {
      "text/plain": [
       "None"
      ]
     },
     "metadata": {},
     "output_type": "display_data"
    }
   ],
   "source": [
    "import pandas as pd\n",
    "\n",
    "data = pd.read_csv('real_estate_data.csv', sep='\\t')\n",
    "display(data.head())\n",
    "display(data.info())"
   ]
  },
  {
   "cell_type": "markdown",
   "id": "21452623",
   "metadata": {},
   "source": [
    "Заметно большое количество пустых полей.\n",
    "#### Гистограммы всех колонок таблицы"
   ]
  },
  {
   "cell_type": "code",
   "execution_count": 2,
   "id": "676b3521",
   "metadata": {},
   "outputs": [
    {
     "data": {
      "image/png": "[encoded data removed]",
      "text/plain": [
       "<Figure size 1080x1440 with 20 Axes>"
      ]
     },
     "metadata": {
      "needs_background": "light"
     },
     "output_type": "display_data"
    }
   ],
   "source": [
    "data.hist(figsize=(15, 20), bins= 50);"
   ]
  },
  {
   "cell_type": "markdown",
   "id": "80342482",
   "metadata": {},
   "source": [
    "На графике цены (last_price) хорошо видно наличие выбросов. Значения выше 100 млн. не видны на гистограмме."
   ]
  },
  {
   "cell_type": "markdown",
   "id": "767032f3",
   "metadata": {},
   "source": [
    "### Предобработка данных\n",
    "#### Пропущенные значения\n",
    "Посмотрю какие есть пропуски и можно ли их заполнить. Постараюсь на этом этапе не удалять строчки, в последсвии перед анализом данных буду выбирать только заполненые строки.\n",
    "##### Этажность строения\n",
    "Возможно этажность не указана для котеджей."
   ]
  },
  {
   "cell_type": "code",
   "execution_count": 3,
   "id": "1c7a89c9",
   "metadata": {},
   "outputs": [
    {
     "data": {
      "text/html": [
       "<div>\n",
       "<style scoped>\n",
       "    .dataframe tbody tr th:only-of-type {\n",
       "        vertical-align: middle;\n",
       "    }\n",
       "\n",
       "    .dataframe tbody tr th {\n",
       "        vertical-align: top;\n",
       "    }\n",
       "\n",
       "    .dataframe thead th {\n",
       "        text-align: right;\n",
       "    }\n",
       "</style>\n",
       "<table border=\"1\" class=\"dataframe\">\n",
       "  <thead>\n",
       "    <tr style=\"text-align: right;\">\n",
       "      <th></th>\n",
       "      <th>total_images</th>\n",
       "      <th>last_price</th>\n",
       "      <th>total_area</th>\n",
       "      <th>first_day_exposition</th>\n",
       "      <th>rooms</th>\n",
       "      <th>ceiling_height</th>\n",
       "      <th>floors_total</th>\n",
       "      <th>living_area</th>\n",
       "      <th>floor</th>\n",
       "      <th>is_apartment</th>\n",
       "      <th>...</th>\n",
       "      <th>kitchen_area</th>\n",
       "      <th>balcony</th>\n",
       "      <th>locality_name</th>\n",
       "      <th>airports_nearest</th>\n",
       "      <th>cityCenters_nearest</th>\n",
       "      <th>parks_around3000</th>\n",
       "      <th>parks_nearest</th>\n",
       "      <th>ponds_around3000</th>\n",
       "      <th>ponds_nearest</th>\n",
       "      <th>days_exposition</th>\n",
       "    </tr>\n",
       "  </thead>\n",
       "  <tbody>\n",
       "    <tr>\n",
       "      <th>186</th>\n",
       "      <td>12</td>\n",
       "      <td>11640000.0</td>\n",
       "      <td>65.2</td>\n",
       "      <td>2018-10-02T00:00:00</td>\n",
       "      <td>2</td>\n",
       "      <td>NaN</td>\n",
       "      <td>NaN</td>\n",
       "      <td>30.80</td>\n",
       "      <td>4</td>\n",
       "      <td>NaN</td>\n",
       "      <td>...</td>\n",
       "      <td>12.00</td>\n",
       "      <td>NaN</td>\n",
       "      <td>Санкт-Петербург</td>\n",
       "      <td>39197.0</td>\n",
       "      <td>12373.0</td>\n",
       "      <td>1.0</td>\n",
       "      <td>123.0</td>\n",
       "      <td>0.0</td>\n",
       "      <td>NaN</td>\n",
       "      <td>49.0</td>\n",
       "    </tr>\n",
       "    <tr>\n",
       "      <th>237</th>\n",
       "      <td>4</td>\n",
       "      <td>2438033.0</td>\n",
       "      <td>28.1</td>\n",
       "      <td>2016-11-23T00:00:00</td>\n",
       "      <td>1</td>\n",
       "      <td>NaN</td>\n",
       "      <td>NaN</td>\n",
       "      <td>20.75</td>\n",
       "      <td>1</td>\n",
       "      <td>NaN</td>\n",
       "      <td>...</td>\n",
       "      <td>NaN</td>\n",
       "      <td>0.0</td>\n",
       "      <td>Санкт-Петербург</td>\n",
       "      <td>22041.0</td>\n",
       "      <td>17369.0</td>\n",
       "      <td>0.0</td>\n",
       "      <td>NaN</td>\n",
       "      <td>1.0</td>\n",
       "      <td>374.0</td>\n",
       "      <td>251.0</td>\n",
       "    </tr>\n",
       "    <tr>\n",
       "      <th>457</th>\n",
       "      <td>4</td>\n",
       "      <td>9788348.0</td>\n",
       "      <td>70.8</td>\n",
       "      <td>2015-08-01T00:00:00</td>\n",
       "      <td>2</td>\n",
       "      <td>NaN</td>\n",
       "      <td>NaN</td>\n",
       "      <td>38.40</td>\n",
       "      <td>12</td>\n",
       "      <td>NaN</td>\n",
       "      <td>...</td>\n",
       "      <td>10.63</td>\n",
       "      <td>0.0</td>\n",
       "      <td>Санкт-Петербург</td>\n",
       "      <td>37364.0</td>\n",
       "      <td>8322.0</td>\n",
       "      <td>2.0</td>\n",
       "      <td>309.0</td>\n",
       "      <td>2.0</td>\n",
       "      <td>706.0</td>\n",
       "      <td>727.0</td>\n",
       "    </tr>\n",
       "    <tr>\n",
       "      <th>671</th>\n",
       "      <td>4</td>\n",
       "      <td>6051191.0</td>\n",
       "      <td>93.6</td>\n",
       "      <td>2017-04-06T00:00:00</td>\n",
       "      <td>3</td>\n",
       "      <td>NaN</td>\n",
       "      <td>NaN</td>\n",
       "      <td>47.10</td>\n",
       "      <td>8</td>\n",
       "      <td>NaN</td>\n",
       "      <td>...</td>\n",
       "      <td>16.80</td>\n",
       "      <td>0.0</td>\n",
       "      <td>Санкт-Петербург</td>\n",
       "      <td>22041.0</td>\n",
       "      <td>17369.0</td>\n",
       "      <td>0.0</td>\n",
       "      <td>NaN</td>\n",
       "      <td>1.0</td>\n",
       "      <td>374.0</td>\n",
       "      <td>123.0</td>\n",
       "    </tr>\n",
       "    <tr>\n",
       "      <th>1757</th>\n",
       "      <td>5</td>\n",
       "      <td>3600000.0</td>\n",
       "      <td>39.0</td>\n",
       "      <td>2017-04-22T00:00:00</td>\n",
       "      <td>1</td>\n",
       "      <td>NaN</td>\n",
       "      <td>NaN</td>\n",
       "      <td>NaN</td>\n",
       "      <td>9</td>\n",
       "      <td>NaN</td>\n",
       "      <td>...</td>\n",
       "      <td>NaN</td>\n",
       "      <td>0.0</td>\n",
       "      <td>Санкт-Петербург</td>\n",
       "      <td>22735.0</td>\n",
       "      <td>11618.0</td>\n",
       "      <td>1.0</td>\n",
       "      <td>835.0</td>\n",
       "      <td>1.0</td>\n",
       "      <td>652.0</td>\n",
       "      <td>77.0</td>\n",
       "    </tr>\n",
       "  </tbody>\n",
       "</table>\n",
       "<p>5 rows × 22 columns</p>\n",
       "</div>"
      ],
      "text/plain": [
       "      total_images  last_price  total_area first_day_exposition  rooms  \\\n",
       "186             12  11640000.0        65.2  2018-10-02T00:00:00      2   \n",
       "237              4   2438033.0        28.1  2016-11-23T00:00:00      1   \n",
       "457              4   9788348.0        70.8  2015-08-01T00:00:00      2   \n",
       "671              4   6051191.0        93.6  2017-04-06T00:00:00      3   \n",
       "1757             5   3600000.0        39.0  2017-04-22T00:00:00      1   \n",
       "\n",
       "      ceiling_height  floors_total  living_area  floor is_apartment  ...  \\\n",
       "186              NaN           NaN        30.80      4          NaN  ...   \n",
       "237              NaN           NaN        20.75      1          NaN  ...   \n",
       "457              NaN           NaN        38.40     12          NaN  ...   \n",
       "671              NaN           NaN        47.10      8          NaN  ...   \n",
       "1757             NaN           NaN          NaN      9          NaN  ...   \n",
       "\n",
       "      kitchen_area  balcony    locality_name  airports_nearest  \\\n",
       "186          12.00      NaN  Санкт-Петербург           39197.0   \n",
       "237            NaN      0.0  Санкт-Петербург           22041.0   \n",
       "457          10.63      0.0  Санкт-Петербург           37364.0   \n",
       "671          16.80      0.0  Санкт-Петербург           22041.0   \n",
       "1757           NaN      0.0  Санкт-Петербург           22735.0   \n",
       "\n",
       "     cityCenters_nearest  parks_around3000  parks_nearest  ponds_around3000  \\\n",
       "186              12373.0               1.0          123.0               0.0   \n",
       "237              17369.0               0.0            NaN               1.0   \n",
       "457               8322.0               2.0          309.0               2.0   \n",
       "671              17369.0               0.0            NaN               1.0   \n",
       "1757             11618.0               1.0          835.0               1.0   \n",
       "\n",
       "      ponds_nearest  days_exposition  \n",
       "186             NaN             49.0  \n",
       "237           374.0            251.0  \n",
       "457           706.0            727.0  \n",
       "671           374.0            123.0  \n",
       "1757          652.0             77.0  \n",
       "\n",
       "[5 rows x 22 columns]"
      ]
     },
     "metadata": {},
     "output_type": "display_data"
    }
   ],
   "source": [
    "display(data[data['floors_total'].isna()].head())\n",
    "data['floors_total'] = data['floors_total'].fillna(0)"
   ]
  },
  {
   "cell_type": "markdown",
   "id": "d84f5b51",
   "metadata": {},
   "source": [
    "Гипотеза не подтвердилась, это помещения на разных этажах. Впишу в пустые строчки 0."
   ]
  },
  {
   "cell_type": "markdown",
   "id": "7ed86c99",
   "metadata": {},
   "source": [
    "##### Жилая площадь и площадь кухни\n",
    "Возможно помещения без жилой площади не являются жилыми квартирами."
   ]
  },
  {
   "cell_type": "code",
   "execution_count": 4,
   "id": "f4edff6c",
   "metadata": {
    "scrolled": true
   },
   "outputs": [
    {
     "data": {
      "text/html": [
       "<div>\n",
       "<style scoped>\n",
       "    .dataframe tbody tr th:only-of-type {\n",
       "        vertical-align: middle;\n",
       "    }\n",
       "\n",
       "    .dataframe tbody tr th {\n",
       "        vertical-align: top;\n",
       "    }\n",
       "\n",
       "    .dataframe thead th {\n",
       "        text-align: right;\n",
       "    }\n",
       "</style>\n",
       "<table border=\"1\" class=\"dataframe\">\n",
       "  <thead>\n",
       "    <tr style=\"text-align: right;\">\n",
       "      <th></th>\n",
       "      <th>total_images</th>\n",
       "      <th>last_price</th>\n",
       "      <th>total_area</th>\n",
       "      <th>first_day_exposition</th>\n",
       "      <th>rooms</th>\n",
       "      <th>ceiling_height</th>\n",
       "      <th>floors_total</th>\n",
       "      <th>living_area</th>\n",
       "      <th>floor</th>\n",
       "      <th>is_apartment</th>\n",
       "      <th>...</th>\n",
       "      <th>kitchen_area</th>\n",
       "      <th>balcony</th>\n",
       "      <th>locality_name</th>\n",
       "      <th>airports_nearest</th>\n",
       "      <th>cityCenters_nearest</th>\n",
       "      <th>parks_around3000</th>\n",
       "      <th>parks_nearest</th>\n",
       "      <th>ponds_around3000</th>\n",
       "      <th>ponds_nearest</th>\n",
       "      <th>days_exposition</th>\n",
       "    </tr>\n",
       "  </thead>\n",
       "  <tbody>\n",
       "    <tr>\n",
       "      <th>3</th>\n",
       "      <td>0</td>\n",
       "      <td>64900000.0</td>\n",
       "      <td>159.0</td>\n",
       "      <td>2015-07-24T00:00:00</td>\n",
       "      <td>3</td>\n",
       "      <td>NaN</td>\n",
       "      <td>14.0</td>\n",
       "      <td>NaN</td>\n",
       "      <td>9</td>\n",
       "      <td>NaN</td>\n",
       "      <td>...</td>\n",
       "      <td>NaN</td>\n",
       "      <td>0.0</td>\n",
       "      <td>Санкт-Петербург</td>\n",
       "      <td>28098.0</td>\n",
       "      <td>6800.0</td>\n",
       "      <td>2.0</td>\n",
       "      <td>84.0</td>\n",
       "      <td>3.0</td>\n",
       "      <td>234.0</td>\n",
       "      <td>424.0</td>\n",
       "    </tr>\n",
       "    <tr>\n",
       "      <th>7</th>\n",
       "      <td>5</td>\n",
       "      <td>7915000.0</td>\n",
       "      <td>71.6</td>\n",
       "      <td>2019-04-18T00:00:00</td>\n",
       "      <td>2</td>\n",
       "      <td>NaN</td>\n",
       "      <td>24.0</td>\n",
       "      <td>NaN</td>\n",
       "      <td>22</td>\n",
       "      <td>NaN</td>\n",
       "      <td>...</td>\n",
       "      <td>18.9</td>\n",
       "      <td>2.0</td>\n",
       "      <td>Санкт-Петербург</td>\n",
       "      <td>23982.0</td>\n",
       "      <td>11634.0</td>\n",
       "      <td>0.0</td>\n",
       "      <td>NaN</td>\n",
       "      <td>0.0</td>\n",
       "      <td>NaN</td>\n",
       "      <td>NaN</td>\n",
       "    </tr>\n",
       "    <tr>\n",
       "      <th>30</th>\n",
       "      <td>12</td>\n",
       "      <td>2200000.0</td>\n",
       "      <td>32.8</td>\n",
       "      <td>2018-02-19T00:00:00</td>\n",
       "      <td>1</td>\n",
       "      <td>NaN</td>\n",
       "      <td>9.0</td>\n",
       "      <td>NaN</td>\n",
       "      <td>2</td>\n",
       "      <td>NaN</td>\n",
       "      <td>...</td>\n",
       "      <td>NaN</td>\n",
       "      <td>NaN</td>\n",
       "      <td>Коммунар</td>\n",
       "      <td>NaN</td>\n",
       "      <td>NaN</td>\n",
       "      <td>NaN</td>\n",
       "      <td>NaN</td>\n",
       "      <td>NaN</td>\n",
       "      <td>NaN</td>\n",
       "      <td>63.0</td>\n",
       "    </tr>\n",
       "    <tr>\n",
       "      <th>37</th>\n",
       "      <td>10</td>\n",
       "      <td>1990000.0</td>\n",
       "      <td>45.8</td>\n",
       "      <td>2017-10-28T00:00:00</td>\n",
       "      <td>2</td>\n",
       "      <td>2.5</td>\n",
       "      <td>5.0</td>\n",
       "      <td>NaN</td>\n",
       "      <td>1</td>\n",
       "      <td>NaN</td>\n",
       "      <td>...</td>\n",
       "      <td>NaN</td>\n",
       "      <td>NaN</td>\n",
       "      <td>поселок городского типа Красный Бор</td>\n",
       "      <td>NaN</td>\n",
       "      <td>NaN</td>\n",
       "      <td>NaN</td>\n",
       "      <td>NaN</td>\n",
       "      <td>NaN</td>\n",
       "      <td>NaN</td>\n",
       "      <td>196.0</td>\n",
       "    </tr>\n",
       "    <tr>\n",
       "      <th>44</th>\n",
       "      <td>13</td>\n",
       "      <td>5350000.0</td>\n",
       "      <td>40.0</td>\n",
       "      <td>2018-11-18T00:00:00</td>\n",
       "      <td>1</td>\n",
       "      <td>NaN</td>\n",
       "      <td>22.0</td>\n",
       "      <td>NaN</td>\n",
       "      <td>3</td>\n",
       "      <td>NaN</td>\n",
       "      <td>...</td>\n",
       "      <td>NaN</td>\n",
       "      <td>1.0</td>\n",
       "      <td>Санкт-Петербург</td>\n",
       "      <td>30471.0</td>\n",
       "      <td>11603.0</td>\n",
       "      <td>1.0</td>\n",
       "      <td>620.0</td>\n",
       "      <td>1.0</td>\n",
       "      <td>1152.0</td>\n",
       "      <td>NaN</td>\n",
       "    </tr>\n",
       "  </tbody>\n",
       "</table>\n",
       "<p>5 rows × 22 columns</p>\n",
       "</div>"
      ],
      "text/plain": [
       "    total_images  last_price  total_area first_day_exposition  rooms  \\\n",
       "3              0  64900000.0       159.0  2015-07-24T00:00:00      3   \n",
       "7              5   7915000.0        71.6  2019-04-18T00:00:00      2   \n",
       "30            12   2200000.0        32.8  2018-02-19T00:00:00      1   \n",
       "37            10   1990000.0        45.8  2017-10-28T00:00:00      2   \n",
       "44            13   5350000.0        40.0  2018-11-18T00:00:00      1   \n",
       "\n",
       "    ceiling_height  floors_total  living_area  floor is_apartment  ...  \\\n",
       "3              NaN          14.0          NaN      9          NaN  ...   \n",
       "7              NaN          24.0          NaN     22          NaN  ...   \n",
       "30             NaN           9.0          NaN      2          NaN  ...   \n",
       "37             2.5           5.0          NaN      1          NaN  ...   \n",
       "44             NaN          22.0          NaN      3          NaN  ...   \n",
       "\n",
       "    kitchen_area  balcony                        locality_name  \\\n",
       "3            NaN      0.0                      Санкт-Петербург   \n",
       "7           18.9      2.0                      Санкт-Петербург   \n",
       "30           NaN      NaN                             Коммунар   \n",
       "37           NaN      NaN  поселок городского типа Красный Бор   \n",
       "44           NaN      1.0                      Санкт-Петербург   \n",
       "\n",
       "    airports_nearest cityCenters_nearest  parks_around3000  parks_nearest  \\\n",
       "3            28098.0              6800.0               2.0           84.0   \n",
       "7            23982.0             11634.0               0.0            NaN   \n",
       "30               NaN                 NaN               NaN            NaN   \n",
       "37               NaN                 NaN               NaN            NaN   \n",
       "44           30471.0             11603.0               1.0          620.0   \n",
       "\n",
       "    ponds_around3000  ponds_nearest  days_exposition  \n",
       "3                3.0          234.0            424.0  \n",
       "7                0.0            NaN              NaN  \n",
       "30               NaN            NaN             63.0  \n",
       "37               NaN            NaN            196.0  \n",
       "44               1.0         1152.0              NaN  \n",
       "\n",
       "[5 rows x 22 columns]"
      ]
     },
     "metadata": {},
     "output_type": "display_data"
    },
    {
     "data": {
      "text/plain": [
       "1464"
      ]
     },
     "execution_count": 4,
     "metadata": {},
     "output_type": "execute_result"
    }
   ],
   "source": [
    "display(data[data['living_area'].isna()].head())\n",
    "len(data[(data['living_area'].isna()) & (data['kitchen_area'].isna())])"
   ]
  },
  {
   "cell_type": "markdown",
   "id": "a7aa6560",
   "metadata": {},
   "source": [
    "Похоже что это все-таки жилые объекты. Часто значения жилой площади и площади кухни не указаны одновременно."
   ]
  },
  {
   "cell_type": "markdown",
   "id": "351de46b",
   "metadata": {},
   "source": [
    "##### Апартаменты\n",
    "Люди не знакомые с таким термином не заполняют это поле, скорее всего это жилье имеет статус жилья. Заполню все пропуски значением False."
   ]
  },
  {
   "cell_type": "code",
   "execution_count": 5,
   "id": "12b60dc2",
   "metadata": {},
   "outputs": [
    {
     "name": "stdout",
     "output_type": "stream",
     "text": [
      "[nan False True]\n"
     ]
    }
   ],
   "source": [
    "print(data['is_apartment'].unique())\n",
    "data['is_apartment'] = data['is_apartment'].fillna(False)"
   ]
  },
  {
   "cell_type": "markdown",
   "id": "4e82042d",
   "metadata": {},
   "source": [
    "##### Балкон\n",
    "Если продавец не указал число балконов, то, скорее всего, в его квартире их нет. Такие пропуски правильно заменить на 0."
   ]
  },
  {
   "cell_type": "code",
   "execution_count": 6,
   "id": "6e5ccd4e",
   "metadata": {},
   "outputs": [],
   "source": [
    "data['balcony'] = data['balcony'].fillna(0)"
   ]
  },
  {
   "cell_type": "markdown",
   "id": "38700a92",
   "metadata": {},
   "source": [
    "##### Локация\n",
    "Если расстояние до центра меньше 15км будем считать, что это Санкт-Петербург."
   ]
  },
  {
   "cell_type": "code",
   "execution_count": 7,
   "id": "854b0b40",
   "metadata": {
    "scrolled": false
   },
   "outputs": [],
   "source": [
    "data.loc[(data['locality_name'].isna()) & (data['cityCenters_nearest'] < 15000),\n",
    "         'locality_name'] = 'Санкт-Петербург'"
   ]
  },
  {
   "cell_type": "markdown",
   "id": "407735d9",
   "metadata": {},
   "source": [
    "##### Расстояния до центра, аэропорта, парка и водоема\n",
    "Если расстояния не указаны, то ,скорее всего, они очень велеки. Эти значения хорошо бы выделить в отдельную группу вместе с большими значениями. Создам отдельные столбцы в  [следующем разделе](#Посчитайте-и-добавьте-в-таблицу-новые-столбцы)."
   ]
  },
  {
   "cell_type": "markdown",
   "id": "2c10c30a",
   "metadata": {},
   "source": [
    "##### Парки и водоемы поблизости\n",
    "Если значения пропущены, то ,скорее всего, парков и водоемов поблизости нет. Заменю пропуски на 0. "
   ]
  },
  {
   "cell_type": "code",
   "execution_count": 8,
   "id": "2faed9de",
   "metadata": {
    "scrolled": true
   },
   "outputs": [],
   "source": [
    "data[['parks_around3000', 'ponds_around3000']] = data[['parks_around3000', \n",
    "                                                       'ponds_around3000']].fillna(0)"
   ]
  },
  {
   "cell_type": "markdown",
   "id": "02f196a9",
   "metadata": {},
   "source": [
    "##### Время размещения\n",
    "Скорее всего, эти объявления были размещены и сразу сняты, считаю информацию в них неактуальной."
   ]
  },
  {
   "cell_type": "code",
   "execution_count": 9,
   "id": "5194a187",
   "metadata": {},
   "outputs": [],
   "source": [
    "data = data.dropna(subset=['days_exposition'])"
   ]
  },
  {
   "cell_type": "markdown",
   "id": "dbc199cf",
   "metadata": {},
   "source": [
    "#### Преобразование типов\n",
    "Заменю дату публикации на datetime."
   ]
  },
  {
   "cell_type": "code",
   "execution_count": 10,
   "id": "cb983779",
   "metadata": {},
   "outputs": [
    {
     "name": "stdout",
     "output_type": "stream",
     "text": [
      "<class 'pandas.core.frame.DataFrame'>\n",
      "Int64Index: 20518 entries, 1 to 23697\n",
      "Data columns (total 22 columns):\n",
      " #   Column                Non-Null Count  Dtype         \n",
      "---  ------                --------------  -----         \n",
      " 0   total_images          20518 non-null  int64         \n",
      " 1   last_price            20518 non-null  float64       \n",
      " 2   total_area            20518 non-null  float64       \n",
      " 3   first_day_exposition  20518 non-null  datetime64[ns]\n",
      " 4   rooms                 20518 non-null  int64         \n",
      " 5   ceiling_height        12051 non-null  float64       \n",
      " 6   floors_total          20518 non-null  float64       \n",
      " 7   living_area           18813 non-null  float64       \n",
      " 8   floor                 20518 non-null  int64         \n",
      " 9   is_apartment          20518 non-null  bool          \n",
      " 10  studio                20518 non-null  bool          \n",
      " 11  open_plan             20518 non-null  bool          \n",
      " 12  kitchen_area          18443 non-null  float64       \n",
      " 13  balcony               20518 non-null  float64       \n",
      " 14  locality_name         20498 non-null  object        \n",
      " 15  airports_nearest      15843 non-null  float64       \n",
      " 16  cityCenters_nearest   15865 non-null  float64       \n",
      " 17  parks_around3000      20518 non-null  float64       \n",
      " 18  parks_nearest         6934 non-null   float64       \n",
      " 19  ponds_around3000      20518 non-null  float64       \n",
      " 20  ponds_nearest         7894 non-null   float64       \n",
      " 21  days_exposition       20518 non-null  float64       \n",
      "dtypes: bool(3), datetime64[ns](1), float64(14), int64(3), object(1)\n",
      "memory usage: 3.2+ MB\n"
     ]
    },
    {
     "data": {
      "text/plain": [
       "None"
      ]
     },
     "metadata": {},
     "output_type": "display_data"
    }
   ],
   "source": [
    "data['first_day_exposition'] = pd.to_datetime(data['first_day_exposition'],\n",
    "                                              format='%Y-%m-%dT%H:%M:%S').dt.round('d')\n",
    "display(data.info())"
   ]
  },
  {
   "cell_type": "markdown",
   "id": "f4a4269e",
   "metadata": {},
   "source": [
    "#### Дубликаты\n",
    "Избавлюсь от дубликатов в названиях населенных пунктов"
   ]
  },
  {
   "cell_type": "code",
   "execution_count": 11,
   "id": "be0e1085",
   "metadata": {},
   "outputs": [
    {
     "name": "stdout",
     "output_type": "stream",
     "text": [
      "['посёлок Шушары' 'Санкт-Петербург' 'городской посёлок Янино-1'\n",
      " 'посёлок Парголово' 'посёлок Мурино' 'Ломоносов' 'Сертолово' 'Петергоф'\n",
      " 'Пушкин' 'деревня Кудрово' 'Коммунар' 'Колпино'\n",
      " 'поселок городского типа Красный Бор' 'Гатчина' 'поселок Мурино'\n",
      " 'деревня Фёдоровское' 'Выборг' 'Кронштадт' 'Кировск'\n",
      " 'деревня Новое Девяткино' 'посёлок Металлострой'\n",
      " 'посёлок городского типа Сиверский' 'поселок Молодцово'\n",
      " 'поселок городского типа Кузьмоловский' 'Павловск' 'деревня Пикколово'\n",
      " 'Всеволожск' 'Кингисепп' 'Сестрорецк' 'деревня Куттузи'\n",
      " 'поселок городского типа Ефимовский' 'посёлок Плодовое'\n",
      " 'деревня Заклинье' 'поселок Торковичи' 'Красное Село' 'посёлок Понтонный'\n",
      " 'Сясьстрой' 'посёлок Новый Свет' 'Приозерск' 'Сланцы' 'село Путилово'\n",
      " 'Ивангород' 'Шлиссельбург' 'Никольское' 'Зеленогорск' 'Сосновый Бор'\n",
      " 'поселок Новый Свет' 'деревня Оржицы' 'деревня Кальтино'\n",
      " 'поселок Романовка' 'посёлок Бугры' 'поселок Бугры'\n",
      " 'поселок городского типа Рощино' 'Луга' 'Волосово' 'Отрадное'\n",
      " 'село Павлово' 'поселок Оредеж' 'село Копорье'\n",
      " 'посёлок городского типа Красный Бор' 'Кудрово' 'Тихвин' 'деревня Нурма'\n",
      " 'поселок городского типа Синявино' 'Тосно' 'посёлок Стрельна'\n",
      " 'посёлок Александровская' 'деревня Лопухинка' 'Пикалёво'\n",
      " 'поселок Терволово' 'поселок городского типа Советский' 'посёлок Аннино'\n",
      " 'Кириши' 'Бокситогорск' 'посёлок городского типа Токсово'\n",
      " 'поселок Сельцо' 'посёлок городского типа Вырица' 'деревня Келози'\n",
      " 'деревня Вартемяги' 'посёлок городского типа Кузьмоловский'\n",
      " 'посёлок Тельмана' 'поселок Севастьяново'\n",
      " 'городской поселок Большая Ижора' 'городской посёлок Павлово'\n",
      " 'деревня Агалатово' 'посёлок Новогорелово' 'деревня Старая' 'Волхов'\n",
      " 'поселок городского типа Вырица' 'городской посёлок Новоселье'\n",
      " 'деревня Большие Колпаны' 'деревня Горбунки' 'деревня Заневка'\n",
      " 'деревня Иссад' 'Приморск' 'деревня Мистолово' 'поселок Зимитицы'\n",
      " 'поселок Барышево' 'деревня Разметелево'\n",
      " 'поселок городского типа имени Свердлова' 'деревня Пеники'\n",
      " 'поселок Рябово' 'деревня Пудомяги' 'поселок станции Корнево'\n",
      " 'деревня Низино' 'деревня Бегуницы' 'городской посёлок Мга'\n",
      " 'деревня Колтуши' 'посёлок городского типа Рощино'\n",
      " 'деревня Малое Карлино' 'посёлок Песочный' 'деревня Аро'\n",
      " 'поселок Ильичёво' 'посёлок городского типа Тайцы' 'деревня Малое Верево'\n",
      " 'деревня Извара' 'Подпорожье' 'поселок станции Вещево' 'село Паша'\n",
      " 'деревня Калитино' 'неизвестно' 'посёлок городского типа Ульяновка'\n",
      " 'поселок городского типа Дубровка' 'поселок Войсковицы'\n",
      " 'посёлок городского типа имени Свердлова' 'Новая Ладога' 'посёлок Ропша'\n",
      " 'поселок Первомайское' 'поселок городского типа Приладожский'\n",
      " 'посёлок Щеглово' 'посёлок Гаврилово' 'Лодейное Поле'\n",
      " 'поселок городского типа Никольский' 'посёлок городского типа Лебяжье'\n",
      " 'деревня Кузьмолово' 'деревня Малые Колпаны' 'поселок Тельмана'\n",
      " 'посёлок Петро-Славянка' 'деревня Лаголово' 'городской посёлок Назия'\n",
      " 'посёлок Ильичёво' 'поселок Углово' 'поселок Старая Малукса'\n",
      " 'садовое товарищество Рахья' 'поселок Аннино' 'поселок Победа'\n",
      " 'деревня Старые Бегуницы' 'поселок Елизаветино'\n",
      " 'посёлок городского типа имени Морозова' 'поселок городского типа Рахья'\n",
      " 'посёлок Сапёрный' 'поселок Семрино' 'поселок Гаврилово'\n",
      " 'поселок Глажево' 'поселок Кобринское' 'поселок Запорожское'\n",
      " 'деревня Юкки' 'поселок станции Приветнинское' 'деревня Мануйлово'\n",
      " 'поселок Поляны' 'посёлок Мичуринское' 'деревня Лесколово'\n",
      " 'деревня Белогорка' 'поселок Цвылёво' 'поселок Мельниково'\n",
      " 'деревня Гостилицы' 'посёлок Пудость' 'Светогорск' 'Любань'\n",
      " 'поселок Селезнёво' 'поселок городского типа Рябово' 'Каменногорск'\n",
      " 'поселок Глебычево' 'деревня Парицы' 'поселок Жилпосёлок'\n",
      " 'посёлок городского типа Мга' 'городской поселок Янино-1'\n",
      " 'посёлок Терволово' 'поселок Стеклянный' 'посёлок городского типа Важины'\n",
      " 'посёлок городского типа Кузнечное' 'село Русско-Высоцкое'\n",
      " 'поселок городского типа Лебяжье' 'поселок городского типа Форносово'\n",
      " 'село Старая Ладога' 'поселок Житково' 'городской посёлок Виллози'\n",
      " 'деревня Лампово' 'деревня Шпаньково' 'деревня Лаврики' 'деревня Кипень'\n",
      " 'посёлок Молодёжное' 'деревня Мины' 'посёлок Сосново'\n",
      " 'посёлок Возрождение' 'деревня Старосиверская' 'посёлок Кикерино'\n",
      " 'поселок Возрождение' 'деревня Старое Хинколово' 'посёлок Пригородный'\n",
      " 'посёлок Торфяное' 'посёлок Репино' 'городской посёлок Будогощь'\n",
      " 'поселок Суходолье' 'поселок Красная Долина' 'деревня Хапо-Ое'\n",
      " 'поселок городского типа Дружная Горка' 'деревня Гарболово'\n",
      " 'поселок Лисий Нос' 'посёлок Стеклянный' 'село Рождествено'\n",
      " 'деревня Старополье' 'посёлок Войскорово' 'посёлок Левашово'\n",
      " 'деревня Сяськелево' 'деревня Камышовка'\n",
      " 'садоводческое некоммерческое товарищество Лесная Поляна'\n",
      " 'деревня Хязельки' 'поселок Жилгородок' 'посёлок городского типа Павлово'\n",
      " 'деревня Ялгино' 'деревня Батово' 'поселок Новый Учхоз'\n",
      " 'поселок Гончарово' 'посёлок Сапёрное' 'посёлок Платформа 69-й километр'\n",
      " 'поселок Каложицы' 'деревня Фалилеево' 'деревня Пельгора'\n",
      " 'поселок городского типа Лесогорский' 'посёлок Белоостров'\n",
      " 'посёлок Алексеевка' 'поселок Серебрянский' 'поселок Петровское'\n",
      " 'деревня Щеглово' 'посёлок Усть-Луга' 'поселок Мичуринское'\n",
      " 'деревня Тарасово' 'поселок Кингисеппский'\n",
      " 'посёлок при железнодорожной станции Вещево' 'поселок Ушаки'\n",
      " 'деревня Торосово' 'городской посёлок Фёдоровское'\n",
      " 'поселок городского типа Токсово' 'посёлок Мельниково'\n",
      " 'поселок городского типа Назия' 'деревня Старая Пустошь'\n",
      " 'поселок Коммунары' 'поселок Починок'\n",
      " 'посёлок городского типа Вознесенье' 'посёлок городского типа Рябово'\n",
      " 'поселок Гладкое' 'поселок Тёсово-4' 'посёлок Жилгородок' 'деревня Бор'\n",
      " 'посёлок Лисий Нос' 'деревня Разбегаево' 'деревня Суоранда'\n",
      " 'поселок Кобралово' 'поселок городского типа Кондратьево'\n",
      " 'посёлок Кобралово' 'коттеджный поселок Счастье' 'поселок Любань'\n",
      " 'деревня Реброво' 'деревня Яльгелево' 'деревня Большая Вруда'\n",
      " 'деревня Зимитицы' 'поселок Семиозерье' 'поселок Совхозный'\n",
      " 'поселок Усть-Луга' 'посёлок Ленинское' 'посёлок Суйда' 'посёлок Поляны'\n",
      " 'деревня Нижние Осельки' 'посёлок станции Свирь' 'поселок Перово'\n",
      " 'поселок Заводской' 'Высоцк' 'поселок Гарболово' 'село Шум'\n",
      " 'поселок станции Лужайка' 'деревня Большая Пустомержа'\n",
      " 'поселок Красносельское' 'деревня Вахнова Кара'\n",
      " 'коттеджный поселок Кивеннапа Север' 'поселок Коробицыно'\n",
      " 'поселок Ромашки' 'посёлок городского типа Форносово' 'посёлок Перово'\n",
      " 'деревня Каськово' 'деревня Куровицы' 'посёлок Плоское' 'поселок Сумино'\n",
      " 'поселок городского типа Большая Ижора' 'деревня Ям-Тесово'\n",
      " 'деревня Терпилицы' 'деревня Глинка' 'деревня Ваганово' 'поселок Пушное'\n",
      " 'садовое товарищество Садко' 'посёлок Усть-Ижора' 'посёлок Петровское'\n",
      " 'деревня Выскатка' 'городской посёлок Свирьстрой' 'деревня Кисельня'\n",
      " 'поселок Котельский' 'посёлок Старая Малукса' 'деревня Трубников Бор'\n",
      " 'поселок Калитино' 'посёлок станции Громово' 'посёлок Высокоключевой'\n",
      " 'садовое товарищество Приладожский' 'посёлок Пансионат Зелёный Бор'\n",
      " 'деревня Ненимяки' 'поселок Пансионат Зелёный Бор' 'поселок Громово'\n",
      " 'деревня Рапполово' 'деревня Пустынка' 'деревня Русско'\n",
      " 'деревня Лупполово' 'деревня Большое Рейзино' 'деревня Малая Романовка'\n",
      " 'городской посёлок Рощино' 'поселок Дружноселье' 'поселок Пчевжа'\n",
      " 'поселок Володарское' 'деревня Нижняя' 'коттеджный посёлок Лесное'\n",
      " 'деревня Тихковицы' 'деревня Борисова Грива' 'деревня Рабитицы']\n"
     ]
    }
   ],
   "source": [
    "data['locality_name'] = data['locality_name'].fillna('неизвестно')\n",
    "print(data['locality_name'].unique())"
   ]
  },
  {
   "cell_type": "code",
   "execution_count": 12,
   "id": "fd2df46f",
   "metadata": {
    "scrolled": true
   },
   "outputs": [
    {
     "name": "stdout",
     "output_type": "stream",
     "text": [
      "['Шушары' 'Санкт-Петербург' 'Янино-1' 'Парголово' 'Мурино' 'Ломоносов'\n",
      " 'Сертолово' 'Петергоф' 'Пушкин' 'Кудрово' 'Коммунар' 'Колпино'\n",
      " 'Красный Бор' 'Гатчина' 'Фёдоровское' 'Выборг' 'Кронштадт' 'Кировск'\n",
      " 'Новое Девяткино' 'Металлострой' 'Сиверский' 'Молодцово' 'Кузьмоловский'\n",
      " 'Павловск' 'Пикколово' 'Всеволожск' 'Кингисепп' 'Сестрорецк' 'Куттузи'\n",
      " 'Ефимовский' 'Плодовое' 'Заклинье' 'Торковичи' 'Красное Село' 'Понтонный'\n",
      " 'Сясьстрой' 'Новый Свет' 'Приозерск' 'Сланцы' 'село Путилово' 'Ивангород'\n",
      " 'Шлиссельбург' 'Никольское' 'Зеленогорск' 'Сосновый Бор' 'Оржицы'\n",
      " 'Кальтино' 'Романовка' 'Бугры' 'Рощино' 'Луга' 'Волосово' 'Отрадное'\n",
      " 'село Павлово' 'Оредеж' 'село Копорье' 'Тихвин' 'Нурма' 'Синявино'\n",
      " 'Тосно' 'Стрельна' 'Александровская' 'Лопухинка' 'Пикалёво' 'Терволово'\n",
      " 'Советский' 'Аннино' 'Кириши' 'Бокситогорск' 'Токсово' 'Сельцо' 'Вырица'\n",
      " 'Келози' 'Вартемяги' 'Тельмана' 'Севастьяново' 'Большая Ижора' 'Павлово'\n",
      " 'Агалатово' 'Новогорелово' 'Старая' 'Волхов' 'Новоселье'\n",
      " 'Большие Колпаны' 'Горбунки' 'Заневка' 'Иссад' 'Приморск' 'Мистолово'\n",
      " 'Зимитицы' 'Барышево' 'Разметелево' 'имени Свердлова' 'Пеники' 'Рябово'\n",
      " 'Пудомяги' 'Корнево' 'Низино' 'Бегуницы' 'Мга' 'Колтуши' 'Малое Карлино'\n",
      " 'Песочный' 'Аро' 'Ильичёво' 'Тайцы' 'Малое Верево' 'Извара' 'Подпорожье'\n",
      " 'Вещево' 'село Паша' 'Калитино' 'неизвестно' 'Ульяновка' 'Дубровка'\n",
      " 'Войсковицы' 'Новая Ладога' 'Ропша' 'Первомайское' 'Приладожский'\n",
      " 'Щеглово' 'Гаврилово' 'Лодейное Поле' 'Никольский' 'Лебяжье' 'Кузьмолово'\n",
      " 'Малые Колпаны' 'Петро-Славянка' 'Лаголово' 'Назия' 'Углово'\n",
      " 'Старая Малукса' 'Рахья' 'Победа' 'Старые Бегуницы' 'Елизаветино'\n",
      " 'имени Морозова' 'Сапёрный' 'Семрино' 'Глажево' 'Кобринское'\n",
      " 'Запорожское' 'Юкки' 'Приветнинское' 'Мануйлово' 'Поляны' 'Мичуринское'\n",
      " 'Лесколово' 'Белогорка' 'Цвылёво' 'Мельниково' 'Гостилицы' 'Пудость'\n",
      " 'Светогорск' 'Любань' 'Селезнёво' 'Каменногорск' 'Глебычево' 'Парицы'\n",
      " 'Жилпосёлок' 'Стеклянный' 'Важины' 'Кузнечное' 'село Русско-Высоцкое'\n",
      " 'Форносово' 'село Старая Ладога' 'Житково' 'Виллози' 'Лампово'\n",
      " 'Шпаньково' 'Лаврики' 'Кипень' 'Молодёжное' 'Мины' 'Сосново'\n",
      " 'Возрождение' 'Старосиверская' 'Кикерино' 'Старое Хинколово'\n",
      " 'Пригородный' 'Торфяное' 'Репино' 'Будогощь' 'Суходолье' 'Красная Долина'\n",
      " 'Хапо-Ое' 'Дружная Горка' 'Гарболово' 'Лисий Нос' 'село Рождествено'\n",
      " 'Старополье' 'Войскорово' 'Левашово' 'Сяськелево' 'Камышовка'\n",
      " 'садоводческое некоммерческое товарищество Лесная Поляна' 'Хязельки'\n",
      " 'Жилгородок' 'Ялгино' 'Батово' 'Новый Учхоз' 'Гончарово' 'Сапёрное'\n",
      " 'Платформа 69-й километр' 'Каложицы' 'Фалилеево' 'Пельгора' 'Лесогорский'\n",
      " 'Белоостров' 'Алексеевка' 'Серебрянский' 'Петровское' 'Усть-Луга'\n",
      " 'Тарасово' 'Кингисеппский' 'при железнодорожной Вещево' 'Ушаки'\n",
      " 'Торосово' 'Старая Пустошь' 'Коммунары' 'Починок' 'Вознесенье' 'Гладкое'\n",
      " 'Тёсово-4' 'Бор' 'Разбегаево' 'Суоранда' 'Кобралово' 'Кондратьево'\n",
      " 'Счастье' 'Реброво' 'Яльгелево' 'Большая Вруда' 'Семиозерье' 'Совхозный'\n",
      " 'Ленинское' 'Суйда' 'Нижние Осельки' 'Свирь' 'Перово' 'Заводской'\n",
      " 'Высоцк' 'село Шум' 'Лужайка' 'Большая Пустомержа' 'Красносельское'\n",
      " 'Вахнова Кара' 'Кивеннапа Север' 'Коробицыно' 'Ромашки' 'Каськово'\n",
      " 'Куровицы' 'Плоское' 'Сумино' 'Ям-Тесово' 'Терпилицы' 'Глинка' 'Ваганово'\n",
      " 'Пушное' 'Садко' 'Усть-Ижора' 'Выскатка' 'Свирьстрой' 'Кисельня'\n",
      " 'Котельский' 'Трубников Бор' 'Громово' 'Высокоключевой'\n",
      " 'Пансионат Зелёный Бор' 'Ненимяки' 'Рапполово' 'Пустынка' 'Русско'\n",
      " 'Лупполово' 'Большое Рейзино' 'Малая Романовка' 'Дружноселье' 'Пчевжа'\n",
      " 'Володарское' 'Нижняя' 'Лесное' 'Тихковицы' 'Борисова Грива' 'Рабитицы']\n"
     ]
    }
   ],
   "source": [
    "words = ['поселок ', 'посёлок ', \n",
    "         'городской ', 'городского типа ', \n",
    "         'станции ','деревня ', \n",
    "        'коттеджный ', 'садовое товарищество ']\n",
    "def clean_word(row):\n",
    "    if word in row:\n",
    "        return row.replace(word, '')\n",
    "    elif word not in row:\n",
    "        return row\n",
    "for word in words:\n",
    "    data['locality_name'] = data['locality_name'].apply(clean_word)\n",
    "print(data['locality_name'].unique())"
   ]
  },
  {
   "cell_type": "markdown",
   "id": "0111f733",
   "metadata": {},
   "source": [
    "#### Выбивающиеся значения\n",
    "Посмотрим на выбросы\n",
    "##### Цена"
   ]
  },
  {
   "cell_type": "code",
   "execution_count": 13,
   "id": "4db51058",
   "metadata": {
    "scrolled": true
   },
   "outputs": [
    {
     "data": {
      "text/html": [
       "<div>\n",
       "<style scoped>\n",
       "    .dataframe tbody tr th:only-of-type {\n",
       "        vertical-align: middle;\n",
       "    }\n",
       "\n",
       "    .dataframe tbody tr th {\n",
       "        vertical-align: top;\n",
       "    }\n",
       "\n",
       "    .dataframe thead th {\n",
       "        text-align: right;\n",
       "    }\n",
       "</style>\n",
       "<table border=\"1\" class=\"dataframe\">\n",
       "  <thead>\n",
       "    <tr style=\"text-align: right;\">\n",
       "      <th></th>\n",
       "      <th>total_images</th>\n",
       "      <th>last_price</th>\n",
       "      <th>total_area</th>\n",
       "      <th>first_day_exposition</th>\n",
       "      <th>rooms</th>\n",
       "      <th>ceiling_height</th>\n",
       "      <th>floors_total</th>\n",
       "      <th>living_area</th>\n",
       "      <th>floor</th>\n",
       "      <th>is_apartment</th>\n",
       "      <th>...</th>\n",
       "      <th>kitchen_area</th>\n",
       "      <th>balcony</th>\n",
       "      <th>locality_name</th>\n",
       "      <th>airports_nearest</th>\n",
       "      <th>cityCenters_nearest</th>\n",
       "      <th>parks_around3000</th>\n",
       "      <th>parks_nearest</th>\n",
       "      <th>ponds_around3000</th>\n",
       "      <th>ponds_nearest</th>\n",
       "      <th>days_exposition</th>\n",
       "    </tr>\n",
       "  </thead>\n",
       "  <tbody>\n",
       "    <tr>\n",
       "      <th>12971</th>\n",
       "      <td>19</td>\n",
       "      <td>763000000.0</td>\n",
       "      <td>400.0</td>\n",
       "      <td>2017-09-30</td>\n",
       "      <td>7</td>\n",
       "      <td>NaN</td>\n",
       "      <td>10.0</td>\n",
       "      <td>250.0</td>\n",
       "      <td>10</td>\n",
       "      <td>False</td>\n",
       "      <td>...</td>\n",
       "      <td>NaN</td>\n",
       "      <td>2.0</td>\n",
       "      <td>Санкт-Петербург</td>\n",
       "      <td>25108.0</td>\n",
       "      <td>3956.0</td>\n",
       "      <td>1.0</td>\n",
       "      <td>530.0</td>\n",
       "      <td>3.0</td>\n",
       "      <td>756.0</td>\n",
       "      <td>33.0</td>\n",
       "    </tr>\n",
       "    <tr>\n",
       "      <th>19540</th>\n",
       "      <td>8</td>\n",
       "      <td>420000000.0</td>\n",
       "      <td>900.0</td>\n",
       "      <td>2017-12-06</td>\n",
       "      <td>12</td>\n",
       "      <td>2.8</td>\n",
       "      <td>25.0</td>\n",
       "      <td>409.7</td>\n",
       "      <td>25</td>\n",
       "      <td>False</td>\n",
       "      <td>...</td>\n",
       "      <td>112.0</td>\n",
       "      <td>0.0</td>\n",
       "      <td>Санкт-Петербург</td>\n",
       "      <td>30706.0</td>\n",
       "      <td>7877.0</td>\n",
       "      <td>0.0</td>\n",
       "      <td>NaN</td>\n",
       "      <td>2.0</td>\n",
       "      <td>318.0</td>\n",
       "      <td>106.0</td>\n",
       "    </tr>\n",
       "    <tr>\n",
       "      <th>14706</th>\n",
       "      <td>15</td>\n",
       "      <td>401300000.0</td>\n",
       "      <td>401.0</td>\n",
       "      <td>2016-02-20</td>\n",
       "      <td>5</td>\n",
       "      <td>NaN</td>\n",
       "      <td>9.0</td>\n",
       "      <td>204.0</td>\n",
       "      <td>9</td>\n",
       "      <td>False</td>\n",
       "      <td>...</td>\n",
       "      <td>24.0</td>\n",
       "      <td>3.0</td>\n",
       "      <td>Санкт-Петербург</td>\n",
       "      <td>21912.0</td>\n",
       "      <td>2389.0</td>\n",
       "      <td>1.0</td>\n",
       "      <td>545.0</td>\n",
       "      <td>1.0</td>\n",
       "      <td>478.0</td>\n",
       "      <td>393.0</td>\n",
       "    </tr>\n",
       "    <tr>\n",
       "      <th>1436</th>\n",
       "      <td>19</td>\n",
       "      <td>330000000.0</td>\n",
       "      <td>190.0</td>\n",
       "      <td>2018-04-04</td>\n",
       "      <td>3</td>\n",
       "      <td>3.5</td>\n",
       "      <td>7.0</td>\n",
       "      <td>95.0</td>\n",
       "      <td>5</td>\n",
       "      <td>False</td>\n",
       "      <td>...</td>\n",
       "      <td>40.0</td>\n",
       "      <td>0.0</td>\n",
       "      <td>Санкт-Петербург</td>\n",
       "      <td>23011.0</td>\n",
       "      <td>1197.0</td>\n",
       "      <td>3.0</td>\n",
       "      <td>519.0</td>\n",
       "      <td>3.0</td>\n",
       "      <td>285.0</td>\n",
       "      <td>233.0</td>\n",
       "    </tr>\n",
       "    <tr>\n",
       "      <th>15651</th>\n",
       "      <td>20</td>\n",
       "      <td>300000000.0</td>\n",
       "      <td>618.0</td>\n",
       "      <td>2017-12-18</td>\n",
       "      <td>7</td>\n",
       "      <td>3.4</td>\n",
       "      <td>7.0</td>\n",
       "      <td>258.0</td>\n",
       "      <td>5</td>\n",
       "      <td>False</td>\n",
       "      <td>...</td>\n",
       "      <td>70.0</td>\n",
       "      <td>0.0</td>\n",
       "      <td>Санкт-Петербург</td>\n",
       "      <td>32440.0</td>\n",
       "      <td>5297.0</td>\n",
       "      <td>0.0</td>\n",
       "      <td>NaN</td>\n",
       "      <td>2.0</td>\n",
       "      <td>198.0</td>\n",
       "      <td>111.0</td>\n",
       "    </tr>\n",
       "  </tbody>\n",
       "</table>\n",
       "<p>5 rows × 22 columns</p>\n",
       "</div>"
      ],
      "text/plain": [
       "       total_images   last_price  total_area first_day_exposition  rooms  \\\n",
       "12971            19  763000000.0       400.0           2017-09-30      7   \n",
       "19540             8  420000000.0       900.0           2017-12-06     12   \n",
       "14706            15  401300000.0       401.0           2016-02-20      5   \n",
       "1436             19  330000000.0       190.0           2018-04-04      3   \n",
       "15651            20  300000000.0       618.0           2017-12-18      7   \n",
       "\n",
       "       ceiling_height  floors_total  living_area  floor  is_apartment  ...  \\\n",
       "12971             NaN          10.0        250.0     10         False  ...   \n",
       "19540             2.8          25.0        409.7     25         False  ...   \n",
       "14706             NaN           9.0        204.0      9         False  ...   \n",
       "1436              3.5           7.0         95.0      5         False  ...   \n",
       "15651             3.4           7.0        258.0      5         False  ...   \n",
       "\n",
       "       kitchen_area  balcony    locality_name  airports_nearest  \\\n",
       "12971           NaN      2.0  Санкт-Петербург           25108.0   \n",
       "19540         112.0      0.0  Санкт-Петербург           30706.0   \n",
       "14706          24.0      3.0  Санкт-Петербург           21912.0   \n",
       "1436           40.0      0.0  Санкт-Петербург           23011.0   \n",
       "15651          70.0      0.0  Санкт-Петербург           32440.0   \n",
       "\n",
       "      cityCenters_nearest  parks_around3000  parks_nearest  ponds_around3000  \\\n",
       "12971              3956.0               1.0          530.0               3.0   \n",
       "19540              7877.0               0.0            NaN               2.0   \n",
       "14706              2389.0               1.0          545.0               1.0   \n",
       "1436               1197.0               3.0          519.0               3.0   \n",
       "15651              5297.0               0.0            NaN               2.0   \n",
       "\n",
       "       ponds_nearest  days_exposition  \n",
       "12971          756.0             33.0  \n",
       "19540          318.0            106.0  \n",
       "14706          478.0            393.0  \n",
       "1436           285.0            233.0  \n",
       "15651          198.0            111.0  \n",
       "\n",
       "[5 rows x 22 columns]"
      ]
     },
     "metadata": {},
     "output_type": "display_data"
    }
   ],
   "source": [
    "display(data.sort_values(['last_price'], ascending=False).head())"
   ]
  },
  {
   "cell_type": "markdown",
   "id": "d142cf6e",
   "metadata": {},
   "source": [
    "Большие квартиры по большой цене похоже на правду.\n",
    "Очевидно выбросы по площади тоже не опечатка.\n",
    "\n",
    "Хочется разделить таблицу по стоимости."
   ]
  },
  {
   "cell_type": "code",
   "execution_count": 14,
   "id": "9b56f737",
   "metadata": {},
   "outputs": [
    {
     "name": "stdout",
     "output_type": "stream",
     "text": [
      "19999\n",
      "487\n",
      "32\n"
     ]
    },
    {
     "data": {
      "image/png": "[encoded data removed]",
      "text/plain": [
       "<Figure size 432x288 with 4 Axes>"
      ]
     },
     "metadata": {
      "needs_background": "light"
     },
     "output_type": "display_data"
    },
    {
     "data": {
      "image/png": "[encoded data removed]",
      "text/plain": [
       "<Figure size 432x288 with 4 Axes>"
      ]
     },
     "metadata": {
      "needs_background": "light"
     },
     "output_type": "display_data"
    },
    {
     "data": {
      "image/png": "[encoded data removed]",
      "text/plain": [
       "<Figure size 432x288 with 4 Axes>"
      ]
     },
     "metadata": {
      "needs_background": "light"
     },
     "output_type": "display_data"
    }
   ],
   "source": [
    "data_chip = data[data['last_price']<20000000]\n",
    "data_exp = data[(data['last_price']>=20000000) & (data['last_price']<100000000)]\n",
    "data_elit = data[data['last_price']>=100000000]\n",
    "\n",
    "for h in [data_chip, data_exp, data_elit]:\n",
    "    h.hist(['last_price', 'total_area', 'living_area', 'kitchen_area'], bins=50)\n",
    "    print(len(h))\n"
   ]
  },
  {
   "cell_type": "markdown",
   "id": "98e29474",
   "metadata": {},
   "source": [
    "Графики для площади выглядят адекватно: при площади 300 $ м^2 $ иметь столовую и жилое помещение 100 $ м^2 $ и 200 $ м^2 $ соответственно"
   ]
  },
  {
   "cell_type": "code",
   "execution_count": 15,
   "id": "35362e4a",
   "metadata": {},
   "outputs": [
    {
     "data": {
      "text/plain": [
       "<AxesSubplot:>"
      ]
     },
     "execution_count": 15,
     "metadata": {},
     "output_type": "execute_result"
    },
    {
     "data": {
      "image/png": "[encoded data removed]",
      "text/plain": [
       "<Figure size 432x288 with 1 Axes>"
      ]
     },
     "metadata": {
      "needs_background": "light"
     },
     "output_type": "display_data"
    }
   ],
   "source": [
    "import matplotlib.pyplot as plt\n",
    "plt.ylim(0, 20000000)\n",
    "data.boxplot('last_price')"
   ]
  },
  {
   "cell_type": "markdown",
   "id": "3c7f0a5e",
   "metadata": {},
   "source": [
    "##### Высота потолка\n",
    "Заполню пустые ячейки 0. Высота потолков 25 м и 32 м, скорее всего, на самом деле вещественные значения: 2.5 м и 3.2 м, предпоагаю такое смещение для всех значений больше 10.3 м, затем разделю все значения на группы. Минимальные потолки в России 2.4м, ниже 2 значения нереалестичны."
   ]
  },
  {
   "cell_type": "code",
   "execution_count": 16,
   "id": "d14ee605",
   "metadata": {
    "scrolled": true
   },
   "outputs": [
    {
     "name": "stdout",
     "output_type": "stream",
     "text": [
      "                     last_price\n",
      "ceiling_height_sort            \n",
      "высокие                    3136\n",
      "двухуровневые                 6\n",
      "неопределено               8472\n",
      "обычные                    8691\n",
      "элитные                     213\n"
     ]
    }
   ],
   "source": [
    "data['ceiling_height_new'] = data['ceiling_height'].fillna(0)\n",
    "\n",
    "data['ceiling_height_new'] = (\n",
    "    data['ceiling_height_new'].where(data['ceiling_height_new'] < 11, \n",
    "                                     (data['ceiling_height_new']/10))\n",
    ")\n",
    "def sort_height(height):\n",
    "    if 2 <= height <= 2.75:\n",
    "        return 'обычные'\n",
    "    elif 2.75 < height <= 3.5:\n",
    "        return 'высокие'\n",
    "    elif 3.5 < height < 6:\n",
    "        return 'элитные'\n",
    "    elif 6 < height:\n",
    "        return 'двухуровневые'\n",
    "    else:\n",
    "        return 'неопределено'\n",
    "data['ceiling_height_sort'] = data['ceiling_height_new'].apply(sort_height)\n",
    "print(data.pivot_table(index='ceiling_height_sort', \n",
    "                       values='last_price', aggfunc='count'))"
   ]
  },
  {
   "cell_type": "markdown",
   "id": "04a2fe6c",
   "metadata": {},
   "source": [
    "##### Этажность"
   ]
  },
  {
   "cell_type": "code",
   "execution_count": 17,
   "id": "f2769f4d",
   "metadata": {},
   "outputs": [
    {
     "name": "stdout",
     "output_type": "stream",
     "text": [
      "[0.0, 1.0, 2.0, 3.0, 4.0, 5.0, 6.0, 7.0, 8.0, 9.0, 10.0, 11.0, 12.0, 13.0, 14.0, 15.0, 16.0, 17.0, 18.0, 19.0, 20.0, 21.0, 22.0, 23.0, 24.0, 25.0, 26.0, 27.0, 28.0, 29.0, 33.0, 34.0, 35.0, 36.0, 37.0, 52.0, 60.0]\n",
      "[1, 2, 3, 4, 5, 6, 7, 8, 9, 10, 11, 12, 13, 14, 15, 16, 17, 18, 19, 20, 21, 22, 23, 24, 25, 26, 27, 28, 31, 32, 33]\n",
      "<class 'pandas.core.frame.DataFrame'>\n",
      "Int64Index: 20518 entries, 1 to 23697\n",
      "Data columns (total 24 columns):\n",
      " #   Column                Non-Null Count  Dtype         \n",
      "---  ------                --------------  -----         \n",
      " 0   total_images          20518 non-null  int64         \n",
      " 1   last_price            20518 non-null  float64       \n",
      " 2   total_area            20518 non-null  float64       \n",
      " 3   first_day_exposition  20518 non-null  datetime64[ns]\n",
      " 4   rooms                 20518 non-null  int64         \n",
      " 5   ceiling_height        12051 non-null  float64       \n",
      " 6   floors_total          20518 non-null  float64       \n",
      " 7   living_area           18813 non-null  float64       \n",
      " 8   floor                 20518 non-null  int64         \n",
      " 9   is_apartment          20518 non-null  bool          \n",
      " 10  studio                20518 non-null  bool          \n",
      " 11  open_plan             20518 non-null  bool          \n",
      " 12  kitchen_area          18443 non-null  float64       \n",
      " 13  balcony               20518 non-null  float64       \n",
      " 14  locality_name         20518 non-null  object        \n",
      " 15  airports_nearest      15843 non-null  float64       \n",
      " 16  cityCenters_nearest   15865 non-null  float64       \n",
      " 17  parks_around3000      20518 non-null  float64       \n",
      " 18  parks_nearest         6934 non-null   float64       \n",
      " 19  ponds_around3000      20518 non-null  float64       \n",
      " 20  ponds_nearest         7894 non-null   float64       \n",
      " 21  days_exposition       20518 non-null  float64       \n",
      " 22  ceiling_height_new    20518 non-null  float64       \n",
      " 23  ceiling_height_sort   20518 non-null  object        \n",
      "dtypes: bool(3), datetime64[ns](1), float64(15), int64(3), object(2)\n",
      "memory usage: 3.5+ MB\n"
     ]
    },
    {
     "data": {
      "text/plain": [
       "None"
      ]
     },
     "metadata": {},
     "output_type": "display_data"
    }
   ],
   "source": [
    "print(sorted(data['floors_total'].unique()))\n",
    "print(sorted(data['floor'].unique()))\n",
    "display(data.info())"
   ]
  },
  {
   "cell_type": "markdown",
   "id": "077fa5fb",
   "metadata": {},
   "source": [
    "В Санкт-Петербурге нет жилых домов выше 37 этажей. Значения выше заменю на 0."
   ]
  },
  {
   "cell_type": "code",
   "execution_count": 18,
   "id": "a6161af2",
   "metadata": {},
   "outputs": [
    {
     "name": "stdout",
     "output_type": "stream",
     "text": [
      "<class 'pandas.core.frame.DataFrame'>\n",
      "Int64Index: 20518 entries, 1 to 23697\n",
      "Data columns (total 24 columns):\n",
      " #   Column                Non-Null Count  Dtype         \n",
      "---  ------                --------------  -----         \n",
      " 0   total_images          20518 non-null  int64         \n",
      " 1   last_price            20518 non-null  float64       \n",
      " 2   total_area            20518 non-null  float64       \n",
      " 3   first_day_exposition  20518 non-null  datetime64[ns]\n",
      " 4   rooms                 20518 non-null  int64         \n",
      " 5   ceiling_height        12051 non-null  float64       \n",
      " 6   floors_total          20518 non-null  int32         \n",
      " 7   living_area           18813 non-null  float64       \n",
      " 8   floor                 20518 non-null  int64         \n",
      " 9   is_apartment          20518 non-null  bool          \n",
      " 10  studio                20518 non-null  bool          \n",
      " 11  open_plan             20518 non-null  bool          \n",
      " 12  kitchen_area          18443 non-null  float64       \n",
      " 13  balcony               20518 non-null  float64       \n",
      " 14  locality_name         20518 non-null  object        \n",
      " 15  airports_nearest      15843 non-null  float64       \n",
      " 16  cityCenters_nearest   15865 non-null  float64       \n",
      " 17  parks_around3000      20518 non-null  float64       \n",
      " 18  parks_nearest         6934 non-null   float64       \n",
      " 19  ponds_around3000      20518 non-null  float64       \n",
      " 20  ponds_nearest         7894 non-null   float64       \n",
      " 21  days_exposition       20518 non-null  float64       \n",
      " 22  ceiling_height_new    20518 non-null  float64       \n",
      " 23  ceiling_height_sort   20518 non-null  object        \n",
      "dtypes: bool(3), datetime64[ns](1), float64(14), int32(1), int64(3), object(2)\n",
      "memory usage: 3.4+ MB\n",
      "None\n"
     ]
    }
   ],
   "source": [
    "data.loc[data['floors_total']>37,'floors_total'] = 0\n",
    "data['floors_total'] = data['floors_total'].astype(int)\n",
    "print(data.info())"
   ]
  },
  {
   "cell_type": "markdown",
   "id": "1fa4ddb4",
   "metadata": {},
   "source": [
    "<div> <b>Проверим на явные дубликаты</div>"
   ]
  },
  {
   "cell_type": "code",
   "execution_count": 19,
   "id": "64bc7168",
   "metadata": {},
   "outputs": [
    {
     "data": {
      "text/plain": [
       "array([False])"
      ]
     },
     "execution_count": 19,
     "metadata": {},
     "output_type": "execute_result"
    }
   ],
   "source": [
    "data.duplicated().unique()"
   ]
  },
  {
   "cell_type": "markdown",
   "id": "9c58ac2e",
   "metadata": {},
   "source": [
    "Их нет"
   ]
  },
  {
   "cell_type": "markdown",
   "id": "b20991a7",
   "metadata": {},
   "source": [
    "### Посчитайте и добавьте в таблицу новые столбцы\n",
    "* цена одного квадратного метра;\n",
    "* день недели публикации объявления (0 — понедельник, 1 — вторник и так далее);\n",
    "* месяц публикации объявления;\n",
    "* год публикации объявления;\n",
    "* тип этажа квартиры (значения — «первый», «последний», «другой»);\n",
    "* расстояние до центра города в километрах (переведите из м в км и округлите до целых значений)."
   ]
  },
  {
   "cell_type": "code",
   "execution_count": 20,
   "id": "0c97bd57",
   "metadata": {},
   "outputs": [
    {
     "data": {
      "text/html": [
       "<div>\n",
       "<style scoped>\n",
       "    .dataframe tbody tr th:only-of-type {\n",
       "        vertical-align: middle;\n",
       "    }\n",
       "\n",
       "    .dataframe tbody tr th {\n",
       "        vertical-align: top;\n",
       "    }\n",
       "\n",
       "    .dataframe thead th {\n",
       "        text-align: right;\n",
       "    }\n",
       "</style>\n",
       "<table border=\"1\" class=\"dataframe\">\n",
       "  <thead>\n",
       "    <tr style=\"text-align: right;\">\n",
       "      <th></th>\n",
       "      <th>meter_price</th>\n",
       "      <th>dayofweek_exposition</th>\n",
       "      <th>month_exposition</th>\n",
       "      <th>year_exposition</th>\n",
       "      <th>floor_type</th>\n",
       "      <th>cityCenters_nearest_km</th>\n",
       "    </tr>\n",
       "  </thead>\n",
       "  <tbody>\n",
       "    <tr>\n",
       "      <th>1</th>\n",
       "      <td>82920.792079</td>\n",
       "      <td>1</td>\n",
       "      <td>12</td>\n",
       "      <td>2018</td>\n",
       "      <td>первый</td>\n",
       "      <td>19.0</td>\n",
       "    </tr>\n",
       "    <tr>\n",
       "      <th>2</th>\n",
       "      <td>92785.714286</td>\n",
       "      <td>3</td>\n",
       "      <td>8</td>\n",
       "      <td>2015</td>\n",
       "      <td>другой</td>\n",
       "      <td>14.0</td>\n",
       "    </tr>\n",
       "    <tr>\n",
       "      <th>3</th>\n",
       "      <td>408176.100629</td>\n",
       "      <td>4</td>\n",
       "      <td>7</td>\n",
       "      <td>2015</td>\n",
       "      <td>другой</td>\n",
       "      <td>7.0</td>\n",
       "    </tr>\n",
       "    <tr>\n",
       "      <th>4</th>\n",
       "      <td>100000.000000</td>\n",
       "      <td>1</td>\n",
       "      <td>6</td>\n",
       "      <td>2018</td>\n",
       "      <td>другой</td>\n",
       "      <td>8.0</td>\n",
       "    </tr>\n",
       "    <tr>\n",
       "      <th>5</th>\n",
       "      <td>95065.789474</td>\n",
       "      <td>0</td>\n",
       "      <td>9</td>\n",
       "      <td>2018</td>\n",
       "      <td>другой</td>\n",
       "      <td>NaN</td>\n",
       "    </tr>\n",
       "    <tr>\n",
       "      <th>6</th>\n",
       "      <td>99195.710456</td>\n",
       "      <td>3</td>\n",
       "      <td>11</td>\n",
       "      <td>2017</td>\n",
       "      <td>другой</td>\n",
       "      <td>19.0</td>\n",
       "    </tr>\n",
       "    <tr>\n",
       "      <th>8</th>\n",
       "      <td>87454.764777</td>\n",
       "      <td>2</td>\n",
       "      <td>5</td>\n",
       "      <td>2018</td>\n",
       "      <td>другой</td>\n",
       "      <td>NaN</td>\n",
       "    </tr>\n",
       "    <tr>\n",
       "      <th>9</th>\n",
       "      <td>88524.590164</td>\n",
       "      <td>6</td>\n",
       "      <td>2</td>\n",
       "      <td>2017</td>\n",
       "      <td>другой</td>\n",
       "      <td>15.0</td>\n",
       "    </tr>\n",
       "    <tr>\n",
       "      <th>10</th>\n",
       "      <td>127525.252525</td>\n",
       "      <td>3</td>\n",
       "      <td>11</td>\n",
       "      <td>2017</td>\n",
       "      <td>другой</td>\n",
       "      <td>14.0</td>\n",
       "    </tr>\n",
       "    <tr>\n",
       "      <th>11</th>\n",
       "      <td>75000.000000</td>\n",
       "      <td>0</td>\n",
       "      <td>8</td>\n",
       "      <td>2018</td>\n",
       "      <td>другой</td>\n",
       "      <td>52.0</td>\n",
       "    </tr>\n",
       "  </tbody>\n",
       "</table>\n",
       "</div>"
      ],
      "text/plain": [
       "      meter_price  dayofweek_exposition  month_exposition  year_exposition  \\\n",
       "1    82920.792079                     1                12             2018   \n",
       "2    92785.714286                     3                 8             2015   \n",
       "3   408176.100629                     4                 7             2015   \n",
       "4   100000.000000                     1                 6             2018   \n",
       "5    95065.789474                     0                 9             2018   \n",
       "6    99195.710456                     3                11             2017   \n",
       "8    87454.764777                     2                 5             2018   \n",
       "9    88524.590164                     6                 2             2017   \n",
       "10  127525.252525                     3                11             2017   \n",
       "11   75000.000000                     0                 8             2018   \n",
       "\n",
       "   floor_type  cityCenters_nearest_km  \n",
       "1      первый                    19.0  \n",
       "2      другой                    14.0  \n",
       "3      другой                     7.0  \n",
       "4      другой                     8.0  \n",
       "5      другой                     NaN  \n",
       "6      другой                    19.0  \n",
       "8      другой                     NaN  \n",
       "9      другой                    15.0  \n",
       "10     другой                    14.0  \n",
       "11     другой                    52.0  "
      ]
     },
     "metadata": {},
     "output_type": "display_data"
    },
    {
     "data": {
      "text/html": [
       "<div>\n",
       "<style scoped>\n",
       "    .dataframe tbody tr th:only-of-type {\n",
       "        vertical-align: middle;\n",
       "    }\n",
       "\n",
       "    .dataframe tbody tr th {\n",
       "        vertical-align: top;\n",
       "    }\n",
       "\n",
       "    .dataframe thead th {\n",
       "        text-align: right;\n",
       "    }\n",
       "</style>\n",
       "<table border=\"1\" class=\"dataframe\">\n",
       "  <thead>\n",
       "    <tr style=\"text-align: right;\">\n",
       "      <th></th>\n",
       "      <th>total_images</th>\n",
       "      <th>last_price</th>\n",
       "      <th>total_area</th>\n",
       "      <th>first_day_exposition</th>\n",
       "      <th>rooms</th>\n",
       "      <th>ceiling_height</th>\n",
       "      <th>floors_total</th>\n",
       "      <th>living_area</th>\n",
       "      <th>floor</th>\n",
       "      <th>is_apartment</th>\n",
       "      <th>...</th>\n",
       "      <th>ponds_nearest</th>\n",
       "      <th>days_exposition</th>\n",
       "      <th>ceiling_height_new</th>\n",
       "      <th>ceiling_height_sort</th>\n",
       "      <th>meter_price</th>\n",
       "      <th>dayofweek_exposition</th>\n",
       "      <th>month_exposition</th>\n",
       "      <th>year_exposition</th>\n",
       "      <th>floor_type</th>\n",
       "      <th>cityCenters_nearest_km</th>\n",
       "    </tr>\n",
       "  </thead>\n",
       "  <tbody>\n",
       "    <tr>\n",
       "      <th>1</th>\n",
       "      <td>7</td>\n",
       "      <td>3350000.0</td>\n",
       "      <td>40.40</td>\n",
       "      <td>2018-12-04</td>\n",
       "      <td>1</td>\n",
       "      <td>NaN</td>\n",
       "      <td>11</td>\n",
       "      <td>18.6</td>\n",
       "      <td>1</td>\n",
       "      <td>False</td>\n",
       "      <td>...</td>\n",
       "      <td>NaN</td>\n",
       "      <td>81.0</td>\n",
       "      <td>0.00</td>\n",
       "      <td>неопределено</td>\n",
       "      <td>82920.792079</td>\n",
       "      <td>1</td>\n",
       "      <td>12</td>\n",
       "      <td>2018</td>\n",
       "      <td>первый</td>\n",
       "      <td>19.0</td>\n",
       "    </tr>\n",
       "    <tr>\n",
       "      <th>2</th>\n",
       "      <td>10</td>\n",
       "      <td>5196000.0</td>\n",
       "      <td>56.00</td>\n",
       "      <td>2015-08-20</td>\n",
       "      <td>2</td>\n",
       "      <td>NaN</td>\n",
       "      <td>5</td>\n",
       "      <td>34.3</td>\n",
       "      <td>4</td>\n",
       "      <td>False</td>\n",
       "      <td>...</td>\n",
       "      <td>574.0</td>\n",
       "      <td>558.0</td>\n",
       "      <td>0.00</td>\n",
       "      <td>неопределено</td>\n",
       "      <td>92785.714286</td>\n",
       "      <td>3</td>\n",
       "      <td>8</td>\n",
       "      <td>2015</td>\n",
       "      <td>другой</td>\n",
       "      <td>14.0</td>\n",
       "    </tr>\n",
       "    <tr>\n",
       "      <th>3</th>\n",
       "      <td>0</td>\n",
       "      <td>64900000.0</td>\n",
       "      <td>159.00</td>\n",
       "      <td>2015-07-24</td>\n",
       "      <td>3</td>\n",
       "      <td>NaN</td>\n",
       "      <td>14</td>\n",
       "      <td>NaN</td>\n",
       "      <td>9</td>\n",
       "      <td>False</td>\n",
       "      <td>...</td>\n",
       "      <td>234.0</td>\n",
       "      <td>424.0</td>\n",
       "      <td>0.00</td>\n",
       "      <td>неопределено</td>\n",
       "      <td>408176.100629</td>\n",
       "      <td>4</td>\n",
       "      <td>7</td>\n",
       "      <td>2015</td>\n",
       "      <td>другой</td>\n",
       "      <td>7.0</td>\n",
       "    </tr>\n",
       "    <tr>\n",
       "      <th>4</th>\n",
       "      <td>2</td>\n",
       "      <td>10000000.0</td>\n",
       "      <td>100.00</td>\n",
       "      <td>2018-06-19</td>\n",
       "      <td>2</td>\n",
       "      <td>3.03</td>\n",
       "      <td>14</td>\n",
       "      <td>32.0</td>\n",
       "      <td>13</td>\n",
       "      <td>False</td>\n",
       "      <td>...</td>\n",
       "      <td>48.0</td>\n",
       "      <td>121.0</td>\n",
       "      <td>3.03</td>\n",
       "      <td>высокие</td>\n",
       "      <td>100000.000000</td>\n",
       "      <td>1</td>\n",
       "      <td>6</td>\n",
       "      <td>2018</td>\n",
       "      <td>другой</td>\n",
       "      <td>8.0</td>\n",
       "    </tr>\n",
       "    <tr>\n",
       "      <th>5</th>\n",
       "      <td>10</td>\n",
       "      <td>2890000.0</td>\n",
       "      <td>30.40</td>\n",
       "      <td>2018-09-10</td>\n",
       "      <td>1</td>\n",
       "      <td>NaN</td>\n",
       "      <td>12</td>\n",
       "      <td>14.4</td>\n",
       "      <td>5</td>\n",
       "      <td>False</td>\n",
       "      <td>...</td>\n",
       "      <td>NaN</td>\n",
       "      <td>55.0</td>\n",
       "      <td>0.00</td>\n",
       "      <td>неопределено</td>\n",
       "      <td>95065.789474</td>\n",
       "      <td>0</td>\n",
       "      <td>9</td>\n",
       "      <td>2018</td>\n",
       "      <td>другой</td>\n",
       "      <td>NaN</td>\n",
       "    </tr>\n",
       "    <tr>\n",
       "      <th>...</th>\n",
       "      <td>...</td>\n",
       "      <td>...</td>\n",
       "      <td>...</td>\n",
       "      <td>...</td>\n",
       "      <td>...</td>\n",
       "      <td>...</td>\n",
       "      <td>...</td>\n",
       "      <td>...</td>\n",
       "      <td>...</td>\n",
       "      <td>...</td>\n",
       "      <td>...</td>\n",
       "      <td>...</td>\n",
       "      <td>...</td>\n",
       "      <td>...</td>\n",
       "      <td>...</td>\n",
       "      <td>...</td>\n",
       "      <td>...</td>\n",
       "      <td>...</td>\n",
       "      <td>...</td>\n",
       "      <td>...</td>\n",
       "      <td>...</td>\n",
       "    </tr>\n",
       "    <tr>\n",
       "      <th>23691</th>\n",
       "      <td>11</td>\n",
       "      <td>9470000.0</td>\n",
       "      <td>72.90</td>\n",
       "      <td>2016-10-13</td>\n",
       "      <td>2</td>\n",
       "      <td>2.75</td>\n",
       "      <td>25</td>\n",
       "      <td>40.3</td>\n",
       "      <td>7</td>\n",
       "      <td>False</td>\n",
       "      <td>...</td>\n",
       "      <td>806.0</td>\n",
       "      <td>519.0</td>\n",
       "      <td>2.75</td>\n",
       "      <td>обычные</td>\n",
       "      <td>129903.978052</td>\n",
       "      <td>3</td>\n",
       "      <td>10</td>\n",
       "      <td>2016</td>\n",
       "      <td>другой</td>\n",
       "      <td>4.0</td>\n",
       "    </tr>\n",
       "    <tr>\n",
       "      <th>23692</th>\n",
       "      <td>2</td>\n",
       "      <td>1350000.0</td>\n",
       "      <td>30.00</td>\n",
       "      <td>2017-07-07</td>\n",
       "      <td>1</td>\n",
       "      <td>NaN</td>\n",
       "      <td>5</td>\n",
       "      <td>17.5</td>\n",
       "      <td>4</td>\n",
       "      <td>False</td>\n",
       "      <td>...</td>\n",
       "      <td>NaN</td>\n",
       "      <td>413.0</td>\n",
       "      <td>0.00</td>\n",
       "      <td>неопределено</td>\n",
       "      <td>45000.000000</td>\n",
       "      <td>4</td>\n",
       "      <td>7</td>\n",
       "      <td>2017</td>\n",
       "      <td>другой</td>\n",
       "      <td>NaN</td>\n",
       "    </tr>\n",
       "    <tr>\n",
       "      <th>23693</th>\n",
       "      <td>9</td>\n",
       "      <td>4600000.0</td>\n",
       "      <td>62.40</td>\n",
       "      <td>2016-08-05</td>\n",
       "      <td>3</td>\n",
       "      <td>2.60</td>\n",
       "      <td>9</td>\n",
       "      <td>40.0</td>\n",
       "      <td>8</td>\n",
       "      <td>False</td>\n",
       "      <td>...</td>\n",
       "      <td>675.0</td>\n",
       "      <td>239.0</td>\n",
       "      <td>2.60</td>\n",
       "      <td>обычные</td>\n",
       "      <td>73717.948718</td>\n",
       "      <td>4</td>\n",
       "      <td>8</td>\n",
       "      <td>2016</td>\n",
       "      <td>другой</td>\n",
       "      <td>34.0</td>\n",
       "    </tr>\n",
       "    <tr>\n",
       "      <th>23695</th>\n",
       "      <td>14</td>\n",
       "      <td>3100000.0</td>\n",
       "      <td>59.00</td>\n",
       "      <td>2018-01-15</td>\n",
       "      <td>3</td>\n",
       "      <td>NaN</td>\n",
       "      <td>5</td>\n",
       "      <td>38.0</td>\n",
       "      <td>4</td>\n",
       "      <td>False</td>\n",
       "      <td>...</td>\n",
       "      <td>NaN</td>\n",
       "      <td>45.0</td>\n",
       "      <td>0.00</td>\n",
       "      <td>неопределено</td>\n",
       "      <td>52542.372881</td>\n",
       "      <td>0</td>\n",
       "      <td>1</td>\n",
       "      <td>2018</td>\n",
       "      <td>другой</td>\n",
       "      <td>NaN</td>\n",
       "    </tr>\n",
       "    <tr>\n",
       "      <th>23697</th>\n",
       "      <td>13</td>\n",
       "      <td>11475000.0</td>\n",
       "      <td>76.75</td>\n",
       "      <td>2017-03-28</td>\n",
       "      <td>2</td>\n",
       "      <td>3.00</td>\n",
       "      <td>17</td>\n",
       "      <td>NaN</td>\n",
       "      <td>12</td>\n",
       "      <td>False</td>\n",
       "      <td>...</td>\n",
       "      <td>196.0</td>\n",
       "      <td>602.0</td>\n",
       "      <td>3.00</td>\n",
       "      <td>высокие</td>\n",
       "      <td>149511.400651</td>\n",
       "      <td>1</td>\n",
       "      <td>3</td>\n",
       "      <td>2017</td>\n",
       "      <td>другой</td>\n",
       "      <td>10.0</td>\n",
       "    </tr>\n",
       "  </tbody>\n",
       "</table>\n",
       "<p>20518 rows × 30 columns</p>\n",
       "</div>"
      ],
      "text/plain": [
       "       total_images  last_price  total_area first_day_exposition  rooms  \\\n",
       "1                 7   3350000.0       40.40           2018-12-04      1   \n",
       "2                10   5196000.0       56.00           2015-08-20      2   \n",
       "3                 0  64900000.0      159.00           2015-07-24      3   \n",
       "4                 2  10000000.0      100.00           2018-06-19      2   \n",
       "5                10   2890000.0       30.40           2018-09-10      1   \n",
       "...             ...         ...         ...                  ...    ...   \n",
       "23691            11   9470000.0       72.90           2016-10-13      2   \n",
       "23692             2   1350000.0       30.00           2017-07-07      1   \n",
       "23693             9   4600000.0       62.40           2016-08-05      3   \n",
       "23695            14   3100000.0       59.00           2018-01-15      3   \n",
       "23697            13  11475000.0       76.75           2017-03-28      2   \n",
       "\n",
       "       ceiling_height  floors_total  living_area  floor  is_apartment  ...  \\\n",
       "1                 NaN            11         18.6      1         False  ...   \n",
       "2                 NaN             5         34.3      4         False  ...   \n",
       "3                 NaN            14          NaN      9         False  ...   \n",
       "4                3.03            14         32.0     13         False  ...   \n",
       "5                 NaN            12         14.4      5         False  ...   \n",
       "...               ...           ...          ...    ...           ...  ...   \n",
       "23691            2.75            25         40.3      7         False  ...   \n",
       "23692             NaN             5         17.5      4         False  ...   \n",
       "23693            2.60             9         40.0      8         False  ...   \n",
       "23695             NaN             5         38.0      4         False  ...   \n",
       "23697            3.00            17          NaN     12         False  ...   \n",
       "\n",
       "       ponds_nearest  days_exposition  ceiling_height_new  \\\n",
       "1                NaN             81.0                0.00   \n",
       "2              574.0            558.0                0.00   \n",
       "3              234.0            424.0                0.00   \n",
       "4               48.0            121.0                3.03   \n",
       "5                NaN             55.0                0.00   \n",
       "...              ...              ...                 ...   \n",
       "23691          806.0            519.0                2.75   \n",
       "23692            NaN            413.0                0.00   \n",
       "23693          675.0            239.0                2.60   \n",
       "23695            NaN             45.0                0.00   \n",
       "23697          196.0            602.0                3.00   \n",
       "\n",
       "       ceiling_height_sort    meter_price  dayofweek_exposition  \\\n",
       "1             неопределено   82920.792079                     1   \n",
       "2             неопределено   92785.714286                     3   \n",
       "3             неопределено  408176.100629                     4   \n",
       "4                  высокие  100000.000000                     1   \n",
       "5             неопределено   95065.789474                     0   \n",
       "...                    ...            ...                   ...   \n",
       "23691              обычные  129903.978052                     3   \n",
       "23692         неопределено   45000.000000                     4   \n",
       "23693              обычные   73717.948718                     4   \n",
       "23695         неопределено   52542.372881                     0   \n",
       "23697              высокие  149511.400651                     1   \n",
       "\n",
       "       month_exposition  year_exposition  floor_type  cityCenters_nearest_km  \n",
       "1                    12             2018      первый                    19.0  \n",
       "2                     8             2015      другой                    14.0  \n",
       "3                     7             2015      другой                     7.0  \n",
       "4                     6             2018      другой                     8.0  \n",
       "5                     9             2018      другой                     NaN  \n",
       "...                 ...              ...         ...                     ...  \n",
       "23691                10             2016      другой                     4.0  \n",
       "23692                 7             2017      другой                     NaN  \n",
       "23693                 8             2016      другой                    34.0  \n",
       "23695                 1             2018      другой                     NaN  \n",
       "23697                 3             2017      другой                    10.0  \n",
       "\n",
       "[20518 rows x 30 columns]"
      ]
     },
     "metadata": {},
     "output_type": "display_data"
    }
   ],
   "source": [
    "data_full = data.copy()\n",
    "def floor_type(floor):\n",
    "    if floor == 1:\n",
    "        return 'первый'\n",
    "    elif floor == data_part['floors_total']:\n",
    "        return 'последний'\n",
    "    else:\n",
    "        return 'другой'\n",
    "\n",
    "data_full['meter_price'] = data_full['last_price'] / data_full['total_area']\n",
    "\n",
    "data_full['dayofweek_exposition'] = (\n",
    "    data_full['first_day_exposition'].dt.dayofweek\n",
    ")\n",
    "\n",
    "data_full['month_exposition'] = data_full['first_day_exposition'].dt.month\n",
    "\n",
    "data_full['year_exposition'] = data_full['first_day_exposition'].dt.year\n",
    "\n",
    "data_full.loc[data_full['floor']== 1,'floor_type'] = 'первый'\n",
    "data_full.loc[data_full['floor']== data_full['floors_total'],'floor_type'] = 'последний'\n",
    "data_full['floor_type'] = data_full['floor_type'].fillna('другой')\n",
    "\n",
    "data_full['cityCenters_nearest_km'] = (data_full['cityCenters_nearest']/1000).round()\n",
    "display(data_full[['meter_price', 'dayofweek_exposition', 'month_exposition', \n",
    "            'year_exposition', 'floor_type', 'cityCenters_nearest_km']].head(10))\n",
    "display(data_full)"
   ]
  },
  {
   "cell_type": "markdown",
   "id": "bdf508bf",
   "metadata": {},
   "source": [
    "### Проведите исследовательский анализ данных\n",
    "Посмотрим на гистограммы, среднее значение и медиану некоторых параметров."
   ]
  },
  {
   "cell_type": "code",
   "execution_count": 21,
   "id": "fbdbef56",
   "metadata": {},
   "outputs": [],
   "source": [
    "def stats(parameter, cut=1000000000, data=data_full):\n",
    "    data_parameter = data[data[parameter]<cut]\n",
    "    display(pd.DataFrame({\n",
    "        'количество меньше \"cut\"': [len(data_parameter)],\n",
    "        'медиана' : [data_parameter[parameter].median()],\n",
    "        'среднее' : [data_parameter[parameter].mean()]\n",
    "    }))\n",
    "   \n",
    "    data_parameter.plot(\n",
    "    kind='hist',\n",
    "    y=parameter,\n",
    "    alpha=0.5,\n",
    "    bins=100\n",
    "    );"
   ]
  },
  {
   "cell_type": "markdown",
   "id": "f4faefcd",
   "metadata": {},
   "source": [
    "#### Общая площадь"
   ]
  },
  {
   "cell_type": "code",
   "execution_count": 22,
   "id": "fd1b71ef",
   "metadata": {},
   "outputs": [
    {
     "data": {
      "text/html": [
       "<div>\n",
       "<style scoped>\n",
       "    .dataframe tbody tr th:only-of-type {\n",
       "        vertical-align: middle;\n",
       "    }\n",
       "\n",
       "    .dataframe tbody tr th {\n",
       "        vertical-align: top;\n",
       "    }\n",
       "\n",
       "    .dataframe thead th {\n",
       "        text-align: right;\n",
       "    }\n",
       "</style>\n",
       "<table border=\"1\" class=\"dataframe\">\n",
       "  <thead>\n",
       "    <tr style=\"text-align: right;\">\n",
       "      <th></th>\n",
       "      <th>количество меньше \"cut\"</th>\n",
       "      <th>медиана</th>\n",
       "      <th>среднее</th>\n",
       "    </tr>\n",
       "  </thead>\n",
       "  <tbody>\n",
       "    <tr>\n",
       "      <th>0</th>\n",
       "      <td>20084</td>\n",
       "      <td>50.0</td>\n",
       "      <td>55.475514</td>\n",
       "    </tr>\n",
       "  </tbody>\n",
       "</table>\n",
       "</div>"
      ],
      "text/plain": [
       "   количество меньше \"cut\"  медиана    среднее\n",
       "0                    20084     50.0  55.475514"
      ]
     },
     "metadata": {},
     "output_type": "display_data"
    },
    {
     "data": {
      "image/png": "[encoded data removed]",
      "text/plain": [
       "<Figure size 432x288 with 1 Axes>"
      ]
     },
     "metadata": {
      "needs_background": "light"
     },
     "output_type": "display_data"
    },
    {
     "data": {
      "image/png": "[encoded data removed]",
      "text/plain": [
       "<Figure size 1440x720 with 1 Axes>"
      ]
     },
     "metadata": {
      "needs_background": "light"
     },
     "output_type": "display_data"
    }
   ],
   "source": [
    "stats('total_area', 150)\n",
    "ax = data_full[data_full['rooms']==0].plot(\n",
    "    kind='hist',\n",
    "    y='total_area',\n",
    "    histtype='step',\n",
    "    alpha=0.7,\n",
    "    bins=100,\n",
    "    label=0,\n",
    "    linewidth=10,\n",
    "    range=(0, 100),\n",
    "    figsize=(20,10)\n",
    ")\n",
    "for r in range(1,5):\n",
    "    data_rooms = data_full[data_full['rooms']==r]\n",
    "    data_rooms.plot(\n",
    "        kind='hist',\n",
    "        y='total_area',\n",
    "        histtype='step',\n",
    "        alpha=0.7,\n",
    "        ax=ax,\n",
    "        label=r,\n",
    "        linewidth=4,\n",
    "        range=(0, 100),\n",
    "        bins=100\n",
    ")"
   ]
  },
  {
   "cell_type": "markdown",
   "id": "8fcbb592",
   "metadata": {},
   "source": [
    "#### Жилая площадь "
   ]
  },
  {
   "cell_type": "code",
   "execution_count": 23,
   "id": "4b558a59",
   "metadata": {
    "scrolled": true
   },
   "outputs": [
    {
     "data": {
      "text/html": [
       "<div>\n",
       "<style scoped>\n",
       "    .dataframe tbody tr th:only-of-type {\n",
       "        vertical-align: middle;\n",
       "    }\n",
       "\n",
       "    .dataframe tbody tr th {\n",
       "        vertical-align: top;\n",
       "    }\n",
       "\n",
       "    .dataframe thead th {\n",
       "        text-align: right;\n",
       "    }\n",
       "</style>\n",
       "<table border=\"1\" class=\"dataframe\">\n",
       "  <thead>\n",
       "    <tr style=\"text-align: right;\">\n",
       "      <th></th>\n",
       "      <th>количество меньше \"cut\"</th>\n",
       "      <th>медиана</th>\n",
       "      <th>среднее</th>\n",
       "    </tr>\n",
       "  </thead>\n",
       "  <tbody>\n",
       "    <tr>\n",
       "      <th>0</th>\n",
       "      <td>18718</td>\n",
       "      <td>29.96</td>\n",
       "      <td>32.707586</td>\n",
       "    </tr>\n",
       "  </tbody>\n",
       "</table>\n",
       "</div>"
      ],
      "text/plain": [
       "   количество меньше \"cut\"  медиана    среднее\n",
       "0                    18718    29.96  32.707586"
      ]
     },
     "metadata": {},
     "output_type": "display_data"
    },
    {
     "data": {
      "image/png": "[encoded data removed]",
      "text/plain": [
       "<Figure size 432x288 with 1 Axes>"
      ]
     },
     "metadata": {
      "needs_background": "light"
     },
     "output_type": "display_data"
    }
   ],
   "source": [
    "stats('living_area', 150)  \n"
   ]
  },
  {
   "cell_type": "markdown",
   "id": "1bebf31a",
   "metadata": {},
   "source": [
    "Вот это уже интересно. Хороши видны два пика. возможно это связано с количеством комнат. "
   ]
  },
  {
   "cell_type": "code",
   "execution_count": 24,
   "id": "911006a9",
   "metadata": {},
   "outputs": [
    {
     "data": {
      "text/html": [
       "<div>\n",
       "<style scoped>\n",
       "    .dataframe tbody tr th:only-of-type {\n",
       "        vertical-align: middle;\n",
       "    }\n",
       "\n",
       "    .dataframe tbody tr th {\n",
       "        vertical-align: top;\n",
       "    }\n",
       "\n",
       "    .dataframe thead th {\n",
       "        text-align: right;\n",
       "    }\n",
       "</style>\n",
       "<table border=\"1\" class=\"dataframe\">\n",
       "  <thead>\n",
       "    <tr style=\"text-align: right;\">\n",
       "      <th></th>\n",
       "      <th>rooms</th>\n",
       "      <th>0</th>\n",
       "      <th>1</th>\n",
       "      <th>2</th>\n",
       "      <th>3</th>\n",
       "      <th>4</th>\n",
       "      <th>5</th>\n",
       "      <th>6</th>\n",
       "      <th>7</th>\n",
       "      <th>8</th>\n",
       "      <th>9</th>\n",
       "      <th>10</th>\n",
       "      <th>11</th>\n",
       "      <th>12</th>\n",
       "      <th>14</th>\n",
       "      <th>15</th>\n",
       "      <th>16</th>\n",
       "      <th>19</th>\n",
       "    </tr>\n",
       "  </thead>\n",
       "  <tbody>\n",
       "    <tr>\n",
       "      <th>median</th>\n",
       "      <th>living_area</th>\n",
       "      <td>18.000000</td>\n",
       "      <td>17.60000</td>\n",
       "      <td>30.400000</td>\n",
       "      <td>44.800000</td>\n",
       "      <td>63.000000</td>\n",
       "      <td>92.000000</td>\n",
       "      <td>133.400000</td>\n",
       "      <td>151.400000</td>\n",
       "      <td>162.000000</td>\n",
       "      <td>199.0</td>\n",
       "      <td>175.4</td>\n",
       "      <td>129.0</td>\n",
       "      <td>409.7</td>\n",
       "      <td>195.15</td>\n",
       "      <td>409.0</td>\n",
       "      <td>180.0</td>\n",
       "      <td>264.5</td>\n",
       "    </tr>\n",
       "    <tr>\n",
       "      <th>mean</th>\n",
       "      <th>living_area</th>\n",
       "      <td>18.805497</td>\n",
       "      <td>17.85306</td>\n",
       "      <td>31.589032</td>\n",
       "      <td>47.166857</td>\n",
       "      <td>66.039278</td>\n",
       "      <td>102.173543</td>\n",
       "      <td>136.288451</td>\n",
       "      <td>169.222857</td>\n",
       "      <td>174.290909</td>\n",
       "      <td>195.0</td>\n",
       "      <td>175.4</td>\n",
       "      <td>129.0</td>\n",
       "      <td>409.7</td>\n",
       "      <td>195.15</td>\n",
       "      <td>409.0</td>\n",
       "      <td>180.0</td>\n",
       "      <td>264.5</td>\n",
       "    </tr>\n",
       "  </tbody>\n",
       "</table>\n",
       "</div>"
      ],
      "text/plain": [
       "rooms                      0         1          2          3          4   \\\n",
       "median living_area  18.000000  17.60000  30.400000  44.800000  63.000000   \n",
       "mean   living_area  18.805497  17.85306  31.589032  47.166857  66.039278   \n",
       "\n",
       "rooms                       5           6           7           8      9   \\\n",
       "median living_area   92.000000  133.400000  151.400000  162.000000  199.0   \n",
       "mean   living_area  102.173543  136.288451  169.222857  174.290909  195.0   \n",
       "\n",
       "rooms                  10     11     12      14     15     16     19  \n",
       "median living_area  175.4  129.0  409.7  195.15  409.0  180.0  264.5  \n",
       "mean   living_area  175.4  129.0  409.7  195.15  409.0  180.0  264.5  "
      ]
     },
     "metadata": {},
     "output_type": "display_data"
    },
    {
     "data": {
      "image/png": "[encoded data removed]",
      "text/plain": [
       "<Figure size 1440x720 with 1 Axes>"
      ]
     },
     "metadata": {
      "needs_background": "light"
     },
     "output_type": "display_data"
    }
   ],
   "source": [
    "display(data_full.pivot_table(index='rooms', values='living_area', aggfunc=['median', 'mean']).T)\n",
    "ax = data_full[data_full['rooms']==0].plot(\n",
    "    kind='hist',\n",
    "    y='living_area',\n",
    "    histtype='step',\n",
    "    alpha=0.7,\n",
    "    bins=100,\n",
    "    label=0,\n",
    "    linewidth=10,\n",
    "    range=(0, 100),\n",
    "    figsize=(20,10)\n",
    ")\n",
    "for r in data_full['rooms'].unique():\n",
    "    data_rooms = data_full[data_full['rooms']==r]\n",
    "    data_rooms.plot(\n",
    "        kind='hist',\n",
    "        y='living_area',\n",
    "        histtype='step',\n",
    "        alpha=0.7,\n",
    "        ax=ax,\n",
    "        label=r,\n",
    "        linewidth=4,\n",
    "        range=(0, 100),\n",
    "        bins=100\n",
    ")"
   ]
  },
  {
   "cell_type": "markdown",
   "id": "9e039175",
   "metadata": {},
   "source": [
    "Похоже пики создают появляются от разного количества комнат. Основной вклад вносят квартиры до 3-х комнат."
   ]
  },
  {
   "cell_type": "markdown",
   "id": "d15f2277",
   "metadata": {},
   "source": [
    "#### Площадь кухни"
   ]
  },
  {
   "cell_type": "code",
   "execution_count": 25,
   "id": "ac33835c",
   "metadata": {
    "scrolled": false
   },
   "outputs": [
    {
     "data": {
      "text/html": [
       "<div>\n",
       "<style scoped>\n",
       "    .dataframe tbody tr th:only-of-type {\n",
       "        vertical-align: middle;\n",
       "    }\n",
       "\n",
       "    .dataframe tbody tr th {\n",
       "        vertical-align: top;\n",
       "    }\n",
       "\n",
       "    .dataframe thead th {\n",
       "        text-align: right;\n",
       "    }\n",
       "</style>\n",
       "<table border=\"1\" class=\"dataframe\">\n",
       "  <thead>\n",
       "    <tr style=\"text-align: right;\">\n",
       "      <th></th>\n",
       "      <th>количество меньше \"cut\"</th>\n",
       "      <th>медиана</th>\n",
       "      <th>среднее</th>\n",
       "    </tr>\n",
       "  </thead>\n",
       "  <tbody>\n",
       "    <tr>\n",
       "      <th>0</th>\n",
       "      <td>18328</td>\n",
       "      <td>9.0</td>\n",
       "      <td>10.181119</td>\n",
       "    </tr>\n",
       "  </tbody>\n",
       "</table>\n",
       "</div>"
      ],
      "text/plain": [
       "   количество меньше \"cut\"  медиана    среднее\n",
       "0                    18328      9.0  10.181119"
      ]
     },
     "metadata": {},
     "output_type": "display_data"
    },
    {
     "data": {
      "image/png": "[encoded data removed]",
      "text/plain": [
       "<Figure size 432x288 with 1 Axes>"
      ]
     },
     "metadata": {
      "needs_background": "light"
     },
     "output_type": "display_data"
    }
   ],
   "source": [
    "stats('kitchen_area', 40)"
   ]
  },
  {
   "cell_type": "markdown",
   "id": "7743e856",
   "metadata": {},
   "source": [
    "Заметны пики, возможно это значения площади округленной до целых значений."
   ]
  },
  {
   "cell_type": "code",
   "execution_count": 26,
   "id": "5ff1018a",
   "metadata": {},
   "outputs": [
    {
     "data": {
      "text/plain": [
       "<AxesSubplot:ylabel='Frequency'>"
      ]
     },
     "execution_count": 26,
     "metadata": {},
     "output_type": "execute_result"
    },
    {
     "data": {
      "image/png": "[encoded data removed]",
      "text/plain": [
       "<Figure size 1440x720 with 1 Axes>"
      ]
     },
     "metadata": {
      "needs_background": "light"
     },
     "output_type": "display_data"
    }
   ],
   "source": [
    "ax = data_full.plot(\n",
    "    kind='hist',\n",
    "    y='kitchen_area',\n",
    "    alpha=0.9,\n",
    "    bins=80,\n",
    "    label=0,\n",
    "    linewidth=1,\n",
    "    range=(0, 40),\n",
    "    figsize=(20,10)\n",
    ")\n",
    "data_full[data_full['kitchen_area']*10%10!=0].plot(\n",
    "    kind='hist',\n",
    "    y='kitchen_area',\n",
    "    alpha=0.9,\n",
    "    bins=80,\n",
    "    label=0,\n",
    "    linewidth=1,\n",
    "    range=(0, 40),\n",
    "    ax=ax,\n",
    "    figsize=(20,10)\n",
    ")"
   ]
  },
  {
   "cell_type": "markdown",
   "id": "4b1b0462",
   "metadata": {},
   "source": [
    "Пики соответствуют целым значениям."
   ]
  },
  {
   "cell_type": "markdown",
   "id": "cd10312a",
   "metadata": {},
   "source": [
    "#### Цена объекта\n",
    "Рассмотрим отдельно информацию про разные ценовые категории."
   ]
  },
  {
   "cell_type": "code",
   "execution_count": 27,
   "id": "b1a071ab",
   "metadata": {},
   "outputs": [
    {
     "data": {
      "text/html": [
       "<div>\n",
       "<style scoped>\n",
       "    .dataframe tbody tr th:only-of-type {\n",
       "        vertical-align: middle;\n",
       "    }\n",
       "\n",
       "    .dataframe tbody tr th {\n",
       "        vertical-align: top;\n",
       "    }\n",
       "\n",
       "    .dataframe thead th {\n",
       "        text-align: right;\n",
       "    }\n",
       "</style>\n",
       "<table border=\"1\" class=\"dataframe\">\n",
       "  <thead>\n",
       "    <tr style=\"text-align: right;\">\n",
       "      <th></th>\n",
       "      <th>количество меньше \"cut\"</th>\n",
       "      <th>медиана</th>\n",
       "      <th>среднее</th>\n",
       "    </tr>\n",
       "  </thead>\n",
       "  <tbody>\n",
       "    <tr>\n",
       "      <th>0</th>\n",
       "      <td>19999</td>\n",
       "      <td>4499000.0</td>\n",
       "      <td>5.265869e+06</td>\n",
       "    </tr>\n",
       "  </tbody>\n",
       "</table>\n",
       "</div>"
      ],
      "text/plain": [
       "   количество меньше \"cut\"    медиана       среднее\n",
       "0                    19999  4499000.0  5.265869e+06"
      ]
     },
     "metadata": {},
     "output_type": "display_data"
    },
    {
     "data": {
      "text/html": [
       "<div>\n",
       "<style scoped>\n",
       "    .dataframe tbody tr th:only-of-type {\n",
       "        vertical-align: middle;\n",
       "    }\n",
       "\n",
       "    .dataframe tbody tr th {\n",
       "        vertical-align: top;\n",
       "    }\n",
       "\n",
       "    .dataframe thead th {\n",
       "        text-align: right;\n",
       "    }\n",
       "</style>\n",
       "<table border=\"1\" class=\"dataframe\">\n",
       "  <thead>\n",
       "    <tr style=\"text-align: right;\">\n",
       "      <th></th>\n",
       "      <th>количество меньше \"cut\"</th>\n",
       "      <th>медиана</th>\n",
       "      <th>среднее</th>\n",
       "    </tr>\n",
       "  </thead>\n",
       "  <tbody>\n",
       "    <tr>\n",
       "      <th>0</th>\n",
       "      <td>487</td>\n",
       "      <td>28050000.0</td>\n",
       "      <td>3.493111e+07</td>\n",
       "    </tr>\n",
       "  </tbody>\n",
       "</table>\n",
       "</div>"
      ],
      "text/plain": [
       "   количество меньше \"cut\"     медиана       среднее\n",
       "0                      487  28050000.0  3.493111e+07"
      ]
     },
     "metadata": {},
     "output_type": "display_data"
    },
    {
     "data": {
      "text/html": [
       "<div>\n",
       "<style scoped>\n",
       "    .dataframe tbody tr th:only-of-type {\n",
       "        vertical-align: middle;\n",
       "    }\n",
       "\n",
       "    .dataframe tbody tr th {\n",
       "        vertical-align: top;\n",
       "    }\n",
       "\n",
       "    .dataframe thead th {\n",
       "        text-align: right;\n",
       "    }\n",
       "</style>\n",
       "<table border=\"1\" class=\"dataframe\">\n",
       "  <thead>\n",
       "    <tr style=\"text-align: right;\">\n",
       "      <th></th>\n",
       "      <th>количество меньше \"cut\"</th>\n",
       "      <th>медиана</th>\n",
       "      <th>среднее</th>\n",
       "    </tr>\n",
       "  </thead>\n",
       "  <tbody>\n",
       "    <tr>\n",
       "      <th>0</th>\n",
       "      <td>32</td>\n",
       "      <td>144000000.0</td>\n",
       "      <td>1.951798e+08</td>\n",
       "    </tr>\n",
       "  </tbody>\n",
       "</table>\n",
       "</div>"
      ],
      "text/plain": [
       "   количество меньше \"cut\"      медиана       среднее\n",
       "0                       32  144000000.0  1.951798e+08"
      ]
     },
     "metadata": {},
     "output_type": "display_data"
    },
    {
     "data": {
      "image/png": "[encoded data removed]",
      "text/plain": [
       "<Figure size 432x288 with 1 Axes>"
      ]
     },
     "metadata": {
      "needs_background": "light"
     },
     "output_type": "display_data"
    },
    {
     "data": {
      "image/png": "[encoded data removed]",
      "text/plain": [
       "<Figure size 432x288 with 1 Axes>"
      ]
     },
     "metadata": {
      "needs_background": "light"
     },
     "output_type": "display_data"
    },
    {
     "data": {
      "image/png": "[encoded data removed]",
      "text/plain": [
       "<Figure size 432x288 with 1 Axes>"
      ]
     },
     "metadata": {
      "needs_background": "light"
     },
     "output_type": "display_data"
    }
   ],
   "source": [
    "stats('last_price',1000000000, data_chip)\n",
    "stats('last_price',1000000000, data_exp)\n",
    "stats('last_price',10000000000, data_elit)"
   ]
  },
  {
   "cell_type": "markdown",
   "id": "0a1ebfb8",
   "metadata": {},
   "source": [
    "График с основным количеством квартир выглядит правдоподобно. Объективнее делать разделение по стоймости квадратного метра."
   ]
  },
  {
   "cell_type": "code",
   "execution_count": 28,
   "id": "3a448890",
   "metadata": {
    "scrolled": false
   },
   "outputs": [
    {
     "data": {
      "text/plain": [
       "array([[<AxesSubplot:title={'center':'meter_price'}>]], dtype=object)"
      ]
     },
     "execution_count": 28,
     "metadata": {},
     "output_type": "execute_result"
    },
    {
     "data": {
      "image/png": "[encoded data removed]",
      "text/plain": [
       "<Figure size 432x288 with 1 Axes>"
      ]
     },
     "metadata": {
      "needs_background": "light"
     },
     "output_type": "display_data"
    },
    {
     "data": {
      "image/png": "[encoded data removed]",
      "text/plain": [
       "<Figure size 432x288 with 1 Axes>"
      ]
     },
     "metadata": {
      "needs_background": "light"
     },
     "output_type": "display_data"
    },
    {
     "data": {
      "image/png": "[encoded data removed]",
      "text/plain": [
       "<Figure size 432x288 with 1 Axes>"
      ]
     },
     "metadata": {
      "needs_background": "light"
     },
     "output_type": "display_data"
    }
   ],
   "source": [
    "data_full[data_full['meter_price']<=250000].hist('meter_price',bins=100)\n",
    "data_full[(data_full['meter_price']>250000)&(data_full['meter_price']<500000)] .hist('meter_price',bins=100)\n",
    "data_full[data_full['meter_price']>=500000].hist('meter_price',bins=100)"
   ]
  },
  {
   "cell_type": "markdown",
   "id": "899fa4a9",
   "metadata": {},
   "source": [
    "Опять же график для основного числа квартир правдоподобен, а жилья дороже уже крайне мало."
   ]
  },
  {
   "cell_type": "markdown",
   "id": "ecc72651",
   "metadata": {},
   "source": [
    "#### Количество комнат"
   ]
  },
  {
   "cell_type": "code",
   "execution_count": 29,
   "id": "8453a2d9",
   "metadata": {
    "scrolled": true
   },
   "outputs": [
    {
     "data": {
      "text/html": [
       "<div>\n",
       "<style scoped>\n",
       "    .dataframe tbody tr th:only-of-type {\n",
       "        vertical-align: middle;\n",
       "    }\n",
       "\n",
       "    .dataframe tbody tr th {\n",
       "        vertical-align: top;\n",
       "    }\n",
       "\n",
       "    .dataframe thead th {\n",
       "        text-align: right;\n",
       "    }\n",
       "</style>\n",
       "<table border=\"1\" class=\"dataframe\">\n",
       "  <thead>\n",
       "    <tr style=\"text-align: right;\">\n",
       "      <th></th>\n",
       "      <th>количество меньше \"cut\"</th>\n",
       "      <th>медиана</th>\n",
       "      <th>среднее</th>\n",
       "    </tr>\n",
       "  </thead>\n",
       "  <tbody>\n",
       "    <tr>\n",
       "      <th>0</th>\n",
       "      <td>20457</td>\n",
       "      <td>2.0</td>\n",
       "      <td>2.005964</td>\n",
       "    </tr>\n",
       "  </tbody>\n",
       "</table>\n",
       "</div>"
      ],
      "text/plain": [
       "   количество меньше \"cut\"  медиана   среднее\n",
       "0                    20457      2.0  2.005964"
      ]
     },
     "metadata": {},
     "output_type": "display_data"
    },
    {
     "data": {
      "image/png": "[encoded data removed]",
      "text/plain": [
       "<Figure size 432x288 with 1 Axes>"
      ]
     },
     "metadata": {
      "needs_background": "light"
     },
     "output_type": "display_data"
    }
   ],
   "source": [
    "stats('rooms', 7)"
   ]
  },
  {
   "cell_type": "markdown",
   "id": "c3759df7",
   "metadata": {},
   "source": [
    "Как уже отмечалось больше всего квартир с 1, 2 или 3 комнатами. Более 5 комнат предложений исчезающе мало."
   ]
  },
  {
   "cell_type": "markdown",
   "id": "a34da68a",
   "metadata": {},
   "source": [
    "#### Высота потолков\n",
    "Посмотрим на гистограмму не только численных значений, но и распределение по группам."
   ]
  },
  {
   "cell_type": "code",
   "execution_count": 30,
   "id": "2cec9489",
   "metadata": {},
   "outputs": [
    {
     "data": {
      "text/plain": [
       "<AxesSubplot:xlabel='ceiling_height_sort'>"
      ]
     },
     "execution_count": 30,
     "metadata": {},
     "output_type": "execute_result"
    },
    {
     "data": {
      "image/png": "[encoded data removed]",
      "text/plain": [
       "<Figure size 432x288 with 1 Axes>"
      ]
     },
     "metadata": {
      "needs_background": "light"
     },
     "output_type": "display_data"
    }
   ],
   "source": [
    "data_full.pivot_table(index='ceiling_height_sort', \n",
    "                      values='ceiling_height_new', \n",
    "                     aggfunc='count').plot(kind='bar')"
   ]
  },
  {
   "cell_type": "markdown",
   "id": "9d22a74f",
   "metadata": {},
   "source": [
    "Количество квартир с потолками выше 2,75 резко уменьшается, а больше 3.5 м объявлений почти нет."
   ]
  },
  {
   "cell_type": "markdown",
   "id": "d9a6f895",
   "metadata": {},
   "source": [
    "#### Этаж квартиры, тип этажа квартиры, общее количество этажей в доме"
   ]
  },
  {
   "cell_type": "code",
   "execution_count": 31,
   "id": "256247d6",
   "metadata": {
    "scrolled": false
   },
   "outputs": [
    {
     "data": {
      "text/html": [
       "<div>\n",
       "<style scoped>\n",
       "    .dataframe tbody tr th:only-of-type {\n",
       "        vertical-align: middle;\n",
       "    }\n",
       "\n",
       "    .dataframe tbody tr th {\n",
       "        vertical-align: top;\n",
       "    }\n",
       "\n",
       "    .dataframe thead th {\n",
       "        text-align: right;\n",
       "    }\n",
       "</style>\n",
       "<table border=\"1\" class=\"dataframe\">\n",
       "  <thead>\n",
       "    <tr style=\"text-align: right;\">\n",
       "      <th></th>\n",
       "      <th>количество меньше \"cut\"</th>\n",
       "      <th>медиана</th>\n",
       "      <th>среднее</th>\n",
       "    </tr>\n",
       "  </thead>\n",
       "  <tbody>\n",
       "    <tr>\n",
       "      <th>0</th>\n",
       "      <td>20518</td>\n",
       "      <td>4.0</td>\n",
       "      <td>5.987133</td>\n",
       "    </tr>\n",
       "  </tbody>\n",
       "</table>\n",
       "</div>"
      ],
      "text/plain": [
       "   количество меньше \"cut\"  медиана   среднее\n",
       "0                    20518      4.0  5.987133"
      ]
     },
     "metadata": {},
     "output_type": "display_data"
    },
    {
     "data": {
      "text/html": [
       "<div>\n",
       "<style scoped>\n",
       "    .dataframe tbody tr th:only-of-type {\n",
       "        vertical-align: middle;\n",
       "    }\n",
       "\n",
       "    .dataframe tbody tr th {\n",
       "        vertical-align: top;\n",
       "    }\n",
       "\n",
       "    .dataframe thead th {\n",
       "        text-align: right;\n",
       "    }\n",
       "</style>\n",
       "<table border=\"1\" class=\"dataframe\">\n",
       "  <thead>\n",
       "    <tr style=\"text-align: right;\">\n",
       "      <th></th>\n",
       "      <th>количество меньше \"cut\"</th>\n",
       "      <th>медиана</th>\n",
       "      <th>среднее</th>\n",
       "    </tr>\n",
       "  </thead>\n",
       "  <tbody>\n",
       "    <tr>\n",
       "      <th>0</th>\n",
       "      <td>20518</td>\n",
       "      <td>9.0</td>\n",
       "      <td>10.814553</td>\n",
       "    </tr>\n",
       "  </tbody>\n",
       "</table>\n",
       "</div>"
      ],
      "text/plain": [
       "   количество меньше \"cut\"  медиана    среднее\n",
       "0                    20518      9.0  10.814553"
      ]
     },
     "metadata": {},
     "output_type": "display_data"
    },
    {
     "data": {
      "text/plain": [
       "<AxesSubplot:ylabel='Frequency'>"
      ]
     },
     "execution_count": 31,
     "metadata": {},
     "output_type": "execute_result"
    },
    {
     "data": {
      "image/png": "[encoded data removed]",
      "text/plain": [
       "<Figure size 432x288 with 1 Axes>"
      ]
     },
     "metadata": {
      "needs_background": "light"
     },
     "output_type": "display_data"
    },
    {
     "data": {
      "image/png": "[encoded data removed]",
      "text/plain": [
       "<Figure size 432x288 with 1 Axes>"
      ]
     },
     "metadata": {
      "needs_background": "light"
     },
     "output_type": "display_data"
    },
    {
     "data": {
      "image/png": "[encoded data removed]",
      "text/plain": [
       "<Figure size 432x288 with 1 Axes>"
      ]
     },
     "metadata": {
      "needs_background": "light"
     },
     "output_type": "display_data"
    },
    {
     "data": {
      "image/png": "[encoded data removed]",
      "text/plain": [
       "<Figure size 1440x720 with 1 Axes>"
      ]
     },
     "metadata": {
      "needs_background": "light"
     },
     "output_type": "display_data"
    }
   ],
   "source": [
    "stats('floor')\n",
    "\n",
    "data_full.pivot_table(index='floor_type', \n",
    "                      values='floor', \n",
    "                     aggfunc='count').plot(kind='bar')\n",
    "\n",
    "stats('floors_total')\n",
    "\n",
    "ax = data_full.plot(\n",
    "    kind='hist',\n",
    "    y='floor',\n",
    "    alpha=0.9,\n",
    "    bins=37,\n",
    "    label='пятиэтажки',\n",
    "    linewidth=1,\n",
    "    range=(0, 40),\n",
    "    figsize=(20,10)\n",
    ")\n",
    "#не забудем про нули\n",
    "data_full[~(data_full['floors_total'].isin([0,5]))].plot(\n",
    "    kind='hist',\n",
    "    y='floor',\n",
    "    alpha=0.9,\n",
    "    bins=37,\n",
    "    label='не пятиэтажки',\n",
    "    linewidth=1,\n",
    "    range=(0, 40),\n",
    "    ax=ax,\n",
    "    figsize=(20,10)\n",
    ")\n"
   ]
  },
  {
   "cell_type": "markdown",
   "id": "4143cc1e",
   "metadata": {},
   "source": [
    "Много объявлений с квартирами на первых 5 этажах, т.к. много 5-и этажных домов."
   ]
  },
  {
   "cell_type": "markdown",
   "id": "cb0b7fed",
   "metadata": {},
   "source": [
    "#### Расстояние до центра города в метрах, расстояние до ближайшего аэропорта, расстояние до ближайшего парка"
   ]
  },
  {
   "cell_type": "code",
   "execution_count": 32,
   "id": "c36537d7",
   "metadata": {},
   "outputs": [
    {
     "data": {
      "text/html": [
       "<div>\n",
       "<style scoped>\n",
       "    .dataframe tbody tr th:only-of-type {\n",
       "        vertical-align: middle;\n",
       "    }\n",
       "\n",
       "    .dataframe tbody tr th {\n",
       "        vertical-align: top;\n",
       "    }\n",
       "\n",
       "    .dataframe thead th {\n",
       "        text-align: right;\n",
       "    }\n",
       "</style>\n",
       "<table border=\"1\" class=\"dataframe\">\n",
       "  <thead>\n",
       "    <tr style=\"text-align: right;\">\n",
       "      <th></th>\n",
       "      <th>количество меньше \"cut\"</th>\n",
       "      <th>медиана</th>\n",
       "      <th>среднее</th>\n",
       "    </tr>\n",
       "  </thead>\n",
       "  <tbody>\n",
       "    <tr>\n",
       "      <th>0</th>\n",
       "      <td>15865</td>\n",
       "      <td>13166.0</td>\n",
       "      <td>14292.967097</td>\n",
       "    </tr>\n",
       "  </tbody>\n",
       "</table>\n",
       "</div>"
      ],
      "text/plain": [
       "   количество меньше \"cut\"  медиана       среднее\n",
       "0                    15865  13166.0  14292.967097"
      ]
     },
     "metadata": {},
     "output_type": "display_data"
    },
    {
     "data": {
      "text/html": [
       "<div>\n",
       "<style scoped>\n",
       "    .dataframe tbody tr th:only-of-type {\n",
       "        vertical-align: middle;\n",
       "    }\n",
       "\n",
       "    .dataframe tbody tr th {\n",
       "        vertical-align: top;\n",
       "    }\n",
       "\n",
       "    .dataframe thead th {\n",
       "        text-align: right;\n",
       "    }\n",
       "</style>\n",
       "<table border=\"1\" class=\"dataframe\">\n",
       "  <thead>\n",
       "    <tr style=\"text-align: right;\">\n",
       "      <th></th>\n",
       "      <th>количество меньше \"cut\"</th>\n",
       "      <th>медиана</th>\n",
       "      <th>среднее</th>\n",
       "    </tr>\n",
       "  </thead>\n",
       "  <tbody>\n",
       "    <tr>\n",
       "      <th>0</th>\n",
       "      <td>15843</td>\n",
       "      <td>26768.0</td>\n",
       "      <td>28840.336047</td>\n",
       "    </tr>\n",
       "  </tbody>\n",
       "</table>\n",
       "</div>"
      ],
      "text/plain": [
       "   количество меньше \"cut\"  медиана       среднее\n",
       "0                    15843  26768.0  28840.336047"
      ]
     },
     "metadata": {},
     "output_type": "display_data"
    },
    {
     "data": {
      "text/html": [
       "<div>\n",
       "<style scoped>\n",
       "    .dataframe tbody tr th:only-of-type {\n",
       "        vertical-align: middle;\n",
       "    }\n",
       "\n",
       "    .dataframe tbody tr th {\n",
       "        vertical-align: top;\n",
       "    }\n",
       "\n",
       "    .dataframe thead th {\n",
       "        text-align: right;\n",
       "    }\n",
       "</style>\n",
       "<table border=\"1\" class=\"dataframe\">\n",
       "  <thead>\n",
       "    <tr style=\"text-align: right;\">\n",
       "      <th></th>\n",
       "      <th>количество меньше \"cut\"</th>\n",
       "      <th>медиана</th>\n",
       "      <th>среднее</th>\n",
       "    </tr>\n",
       "  </thead>\n",
       "  <tbody>\n",
       "    <tr>\n",
       "      <th>0</th>\n",
       "      <td>6934</td>\n",
       "      <td>451.0</td>\n",
       "      <td>491.088405</td>\n",
       "    </tr>\n",
       "  </tbody>\n",
       "</table>\n",
       "</div>"
      ],
      "text/plain": [
       "   количество меньше \"cut\"  медиана     среднее\n",
       "0                     6934    451.0  491.088405"
      ]
     },
     "metadata": {},
     "output_type": "display_data"
    },
    {
     "name": "stdout",
     "output_type": "stream",
     "text": [
      "21085       0.0\n",
      "4017     6450.0\n",
      "12899    6450.0\n",
      "7778     6914.0\n",
      "23150    6949.0\n",
      "Name: airports_nearest, dtype: float64\n"
     ]
    },
    {
     "data": {
      "image/png": "[encoded data removed]",
      "text/plain": [
       "<Figure size 432x288 with 1 Axes>"
      ]
     },
     "metadata": {
      "needs_background": "light"
     },
     "output_type": "display_data"
    },
    {
     "data": {
      "image/png": "[encoded data removed]",
      "text/plain": [
       "<Figure size 432x288 with 1 Axes>"
      ]
     },
     "metadata": {
      "needs_background": "light"
     },
     "output_type": "display_data"
    },
    {
     "data": {
      "image/png": "[encoded data removed]",
      "text/plain": [
       "<Figure size 432x288 with 1 Axes>"
      ]
     },
     "metadata": {
      "needs_background": "light"
     },
     "output_type": "display_data"
    }
   ],
   "source": [
    "stats('cityCenters_nearest')\n",
    "stats('airports_nearest')\n",
    "stats('parks_nearest')\n",
    "print(data['airports_nearest'].sort_values().head())"
   ]
  },
  {
   "cell_type": "markdown",
   "id": "54d8afec",
   "metadata": {},
   "source": [
    "Можно заметить несколько пиков. Первый можно связать с историческим районом, второй самый большой - со спальными районами на окраине города. Маленькие пики в районе 30 и 50 км, скорее всего, крупные населенные пункты в области. Ближе 6.5 км от аэропорта объявлений нет. Про парк в основном пишут если он находится не дальше 1км."
   ]
  },
  {
   "cell_type": "code",
   "execution_count": 33,
   "id": "c2d07d16",
   "metadata": {
    "scrolled": false
   },
   "outputs": [
    {
     "data": {
      "text/plain": [
       "array([[<AxesSubplot:title={'center':'month_exposition'}>]], dtype=object)"
      ]
     },
     "execution_count": 33,
     "metadata": {},
     "output_type": "execute_result"
    },
    {
     "data": {
      "image/png": "[encoded data removed]",
      "text/plain": [
       "<Figure size 720x432 with 1 Axes>"
      ]
     },
     "metadata": {
      "needs_background": "light"
     },
     "output_type": "display_data"
    },
    {
     "data": {
      "image/png": "[encoded data removed]",
      "text/plain": [
       "<Figure size 720x432 with 1 Axes>"
      ]
     },
     "metadata": {
      "needs_background": "light"
     },
     "output_type": "display_data"
    },
    {
     "data": {
      "image/png": "[encoded data removed]",
      "text/plain": [
       "<Figure size 720x432 with 1 Axes>"
      ]
     },
     "metadata": {
      "needs_background": "light"
     },
     "output_type": "display_data"
    }
   ],
   "source": [
    "data.hist('first_day_exposition', bins=50, figsize=(10,6));\n",
    "data_full.hist('dayofweek_exposition', bins=7, figsize=(10,6))\n",
    "data_full.hist('month_exposition', bins=12, figsize=(10,6))"
   ]
  },
  {
   "cell_type": "markdown",
   "id": "6e7ebd07",
   "metadata": {},
   "source": [
    "Количество объявлений росло с 1015-го по конец 2017-го годов, потом начало снижаться. Есть большие провалы во второй половине 2016-го года и второй четверти 2018-го.\n",
    "\n",
    "Интересно в выходные появляется меньше объявлений, по-видимому основное количество объявлений от риэлторских агенств. Видны провалы в мае и в районе нового года, что может быть связано с большим количеством праздничных дней."
   ]
  },
  {
   "cell_type": "markdown",
   "id": "af0bc47e",
   "metadata": {},
   "source": [
    "#### Время продажи квартиры"
   ]
  },
  {
   "cell_type": "code",
   "execution_count": 34,
   "id": "908b2128",
   "metadata": {},
   "outputs": [
    {
     "data": {
      "text/html": [
       "<div>\n",
       "<style scoped>\n",
       "    .dataframe tbody tr th:only-of-type {\n",
       "        vertical-align: middle;\n",
       "    }\n",
       "\n",
       "    .dataframe tbody tr th {\n",
       "        vertical-align: top;\n",
       "    }\n",
       "\n",
       "    .dataframe thead th {\n",
       "        text-align: right;\n",
       "    }\n",
       "</style>\n",
       "<table border=\"1\" class=\"dataframe\">\n",
       "  <thead>\n",
       "    <tr style=\"text-align: right;\">\n",
       "      <th></th>\n",
       "      <th>количество меньше \"cut\"</th>\n",
       "      <th>медиана</th>\n",
       "      <th>среднее</th>\n",
       "    </tr>\n",
       "  </thead>\n",
       "  <tbody>\n",
       "    <tr>\n",
       "      <th>0</th>\n",
       "      <td>1130</td>\n",
       "      <td>6.0</td>\n",
       "      <td>5.952212</td>\n",
       "    </tr>\n",
       "  </tbody>\n",
       "</table>\n",
       "</div>"
      ],
      "text/plain": [
       "   количество меньше \"cut\"  медиана   среднее\n",
       "0                     1130      6.0  5.952212"
      ]
     },
     "metadata": {},
     "output_type": "display_data"
    },
    {
     "data": {
      "text/html": [
       "<div>\n",
       "<style scoped>\n",
       "    .dataframe tbody tr th:only-of-type {\n",
       "        vertical-align: middle;\n",
       "    }\n",
       "\n",
       "    .dataframe tbody tr th {\n",
       "        vertical-align: top;\n",
       "    }\n",
       "\n",
       "    .dataframe thead th {\n",
       "        text-align: right;\n",
       "    }\n",
       "</style>\n",
       "<table border=\"1\" class=\"dataframe\">\n",
       "  <thead>\n",
       "    <tr style=\"text-align: right;\">\n",
       "      <th></th>\n",
       "      <th>количество меньше \"cut\"</th>\n",
       "      <th>медиана</th>\n",
       "      <th>среднее</th>\n",
       "    </tr>\n",
       "  </thead>\n",
       "  <tbody>\n",
       "    <tr>\n",
       "      <th>0</th>\n",
       "      <td>19659</td>\n",
       "      <td>90.0</td>\n",
       "      <td>147.909405</td>\n",
       "    </tr>\n",
       "  </tbody>\n",
       "</table>\n",
       "</div>"
      ],
      "text/plain": [
       "   количество меньше \"cut\"  медиана     среднее\n",
       "0                    19659     90.0  147.909405"
      ]
     },
     "metadata": {},
     "output_type": "display_data"
    },
    {
     "data": {
      "text/html": [
       "<div>\n",
       "<style scoped>\n",
       "    .dataframe tbody tr th:only-of-type {\n",
       "        vertical-align: middle;\n",
       "    }\n",
       "\n",
       "    .dataframe tbody tr th {\n",
       "        vertical-align: top;\n",
       "    }\n",
       "\n",
       "    .dataframe thead th {\n",
       "        text-align: right;\n",
       "    }\n",
       "</style>\n",
       "<table border=\"1\" class=\"dataframe\">\n",
       "  <thead>\n",
       "    <tr style=\"text-align: right;\">\n",
       "      <th></th>\n",
       "      <th>количество меньше \"cut\"</th>\n",
       "      <th>медиана</th>\n",
       "      <th>среднее</th>\n",
       "    </tr>\n",
       "  </thead>\n",
       "  <tbody>\n",
       "    <tr>\n",
       "      <th>0</th>\n",
       "      <td>10507</td>\n",
       "      <td>45.0</td>\n",
       "      <td>44.707338</td>\n",
       "    </tr>\n",
       "  </tbody>\n",
       "</table>\n",
       "</div>"
      ],
      "text/plain": [
       "   количество меньше \"cut\"  медиана    среднее\n",
       "0                    10507     45.0  44.707338"
      ]
     },
     "metadata": {},
     "output_type": "display_data"
    },
    {
     "data": {
      "image/png": "[encoded data removed]",
      "text/plain": [
       "<Figure size 432x288 with 1 Axes>"
      ]
     },
     "metadata": {
      "needs_background": "light"
     },
     "output_type": "display_data"
    },
    {
     "data": {
      "image/png": "[encoded data removed]",
      "text/plain": [
       "<Figure size 432x288 with 1 Axes>"
      ]
     },
     "metadata": {
      "needs_background": "light"
     },
     "output_type": "display_data"
    },
    {
     "data": {
      "image/png": "[encoded data removed]",
      "text/plain": [
       "<Figure size 432x288 with 1 Axes>"
      ]
     },
     "metadata": {
      "needs_background": "light"
     },
     "output_type": "display_data"
    }
   ],
   "source": [
    "stats('days_exposition', 10)\n",
    "stats('days_exposition', 700)\n",
    "stats('days_exposition', 100)"
   ]
  },
  {
   "cell_type": "markdown",
   "id": "9c5f31b7",
   "metadata": {},
   "source": [
    "Считаю продажи за 1-2 дня быстрыми, а долгими - более 2 лет. Видны гигантские пики на 45, 60 и 90 днях, возможно это связано с временем подготовки каких-то документов."
   ]
  },
  {
   "cell_type": "markdown",
   "id": "3564dec8",
   "metadata": {},
   "source": [
    "#### Влияние параметров на общую стоимость\n",
    "* общей площади\n",
    "* жилой площади\n",
    "* площади кухни\n",
    "* количества комнат\n",
    "* этажа, на котором расположена квартира (первый, последний, другой)\n",
    "* даты размещения (день недели, месяц, год)"
   ]
  },
  {
   "cell_type": "code",
   "execution_count": 35,
   "id": "f081ace7",
   "metadata": {},
   "outputs": [
    {
     "data": {
      "text/html": [
       "<div>\n",
       "<style scoped>\n",
       "    .dataframe tbody tr th:only-of-type {\n",
       "        vertical-align: middle;\n",
       "    }\n",
       "\n",
       "    .dataframe tbody tr th {\n",
       "        vertical-align: top;\n",
       "    }\n",
       "\n",
       "    .dataframe thead th {\n",
       "        text-align: right;\n",
       "    }\n",
       "</style>\n",
       "<table border=\"1\" class=\"dataframe\">\n",
       "  <thead>\n",
       "    <tr style=\"text-align: right;\">\n",
       "      <th></th>\n",
       "      <th>last_price</th>\n",
       "      <th>total_area</th>\n",
       "      <th>living_area</th>\n",
       "      <th>kitchen_area</th>\n",
       "      <th>rooms</th>\n",
       "    </tr>\n",
       "  </thead>\n",
       "  <tbody>\n",
       "    <tr>\n",
       "      <th>last_price</th>\n",
       "      <td>1.000000</td>\n",
       "      <td>0.835729</td>\n",
       "      <td>0.746706</td>\n",
       "      <td>0.600523</td>\n",
       "      <td>0.534553</td>\n",
       "    </tr>\n",
       "    <tr>\n",
       "      <th>total_area</th>\n",
       "      <td>0.835729</td>\n",
       "      <td>1.000000</td>\n",
       "      <td>0.938620</td>\n",
       "      <td>0.585950</td>\n",
       "      <td>0.771965</td>\n",
       "    </tr>\n",
       "    <tr>\n",
       "      <th>living_area</th>\n",
       "      <td>0.746706</td>\n",
       "      <td>0.938620</td>\n",
       "      <td>1.000000</td>\n",
       "      <td>0.402323</td>\n",
       "      <td>0.854568</td>\n",
       "    </tr>\n",
       "    <tr>\n",
       "      <th>kitchen_area</th>\n",
       "      <td>0.600523</td>\n",
       "      <td>0.585950</td>\n",
       "      <td>0.402323</td>\n",
       "      <td>1.000000</td>\n",
       "      <td>0.244566</td>\n",
       "    </tr>\n",
       "    <tr>\n",
       "      <th>rooms</th>\n",
       "      <td>0.534553</td>\n",
       "      <td>0.771965</td>\n",
       "      <td>0.854568</td>\n",
       "      <td>0.244566</td>\n",
       "      <td>1.000000</td>\n",
       "    </tr>\n",
       "  </tbody>\n",
       "</table>\n",
       "</div>"
      ],
      "text/plain": [
       "              last_price  total_area  living_area  kitchen_area     rooms\n",
       "last_price      1.000000    0.835729     0.746706      0.600523  0.534553\n",
       "total_area      0.835729    1.000000     0.938620      0.585950  0.771965\n",
       "living_area     0.746706    0.938620     1.000000      0.402323  0.854568\n",
       "kitchen_area    0.600523    0.585950     0.402323      1.000000  0.244566\n",
       "rooms           0.534553    0.771965     0.854568      0.244566  1.000000"
      ]
     },
     "metadata": {},
     "output_type": "display_data"
    },
    {
     "name": "stdout",
     "output_type": "stream",
     "text": [
      "               median          mean\n",
      "           last_price    last_price\n",
      "floor_type                         \n",
      "другой      4700000.0  6.420232e+06\n",
      "первый      3817262.0  4.509181e+06\n",
      "последний   4250000.0  6.956201e+06\n"
     ]
    },
    {
     "data": {
      "text/plain": [
       "<AxesSubplot:xlabel='floor_type', ylabel='last_price'>"
      ]
     },
     "execution_count": 35,
     "metadata": {},
     "output_type": "execute_result"
    },
    {
     "data": {
      "image/png": "[encoded data removed]",
      "text/plain": [
       "<Figure size 864x864 with 25 Axes>"
      ]
     },
     "metadata": {
      "needs_background": "light"
     },
     "output_type": "display_data"
    },
    {
     "data": {
      "image/png": "[encoded data removed]",
      "text/plain": [
       "<Figure size 432x288 with 1 Axes>"
      ]
     },
     "metadata": {
      "needs_background": "light"
     },
     "output_type": "display_data"
    }
   ],
   "source": [
    "cor_data = data_full[data_full['meter_price']<=250000]\n",
    "cor_table = cor_data[['last_price',\n",
    "                 'total_area', \n",
    "                 'living_area', \n",
    "                 'kitchen_area',\n",
    "                 'rooms',\n",
    "                 'first_day_exposition']]\n",
    "display(cor_table.corr())\n",
    "pd.plotting.scatter_matrix(cor_table, figsize=(12,12));\n",
    "print(data_full.pivot_table(index='floor_type', \n",
    "                            values='last_price', \n",
    "                            aggfunc=['median', 'mean'] ))\n",
    "data_full.plot.scatter(x='floor_type', y='last_price', grid=True )\n",
    "#data_full.boxplot('last_price', by='floor_type',loglog=True, grid=True)"
   ]
  },
  {
   "cell_type": "markdown",
   "id": "f05da5fe",
   "metadata": {},
   "source": [
    "Все эти параметры влияют на окончательную стоимость. Больше всего общая площадь и близко с ней связанная жилая площадь. Площадь кухни и количество комнат влияют значительно меньше. Расположенрие квартиры тоже влияет на цену, но не линейно: на первом этаже квартиры дешевле на 23%, на последнем - более чем на 10%. Тем не мение самые дорогие квартиры находятся именно на последних этажах."
   ]
  },
  {
   "cell_type": "markdown",
   "id": "38f371d3",
   "metadata": {},
   "source": [
    "#### Средняя цена квадратного метра"
   ]
  },
  {
   "cell_type": "code",
   "execution_count": 36,
   "id": "05680366",
   "metadata": {
    "scrolled": false
   },
   "outputs": [
    {
     "data": {
      "text/plain": [
       "'Самые дорогие:'"
      ]
     },
     "metadata": {},
     "output_type": "display_data"
    },
    {
     "data": {
      "text/html": [
       "<div>\n",
       "<style scoped>\n",
       "    .dataframe tbody tr th:only-of-type {\n",
       "        vertical-align: middle;\n",
       "    }\n",
       "\n",
       "    .dataframe tbody tr th {\n",
       "        vertical-align: top;\n",
       "    }\n",
       "\n",
       "    .dataframe thead th {\n",
       "        text-align: right;\n",
       "    }\n",
       "</style>\n",
       "<table border=\"1\" class=\"dataframe\">\n",
       "  <thead>\n",
       "    <tr style=\"text-align: right;\">\n",
       "      <th></th>\n",
       "      <th>median</th>\n",
       "      <th>mean</th>\n",
       "      <th>count</th>\n",
       "    </tr>\n",
       "    <tr>\n",
       "      <th>locality_name</th>\n",
       "      <th></th>\n",
       "      <th></th>\n",
       "      <th></th>\n",
       "    </tr>\n",
       "  </thead>\n",
       "  <tbody>\n",
       "    <tr>\n",
       "      <th>Санкт-Петербург</th>\n",
       "      <td>103052.015176</td>\n",
       "      <td>112403.495726</td>\n",
       "      <td>13666</td>\n",
       "    </tr>\n",
       "    <tr>\n",
       "      <th>Зеленогорск</th>\n",
       "      <td>100000.000000</td>\n",
       "      <td>111332.344382</td>\n",
       "      <td>21</td>\n",
       "    </tr>\n",
       "    <tr>\n",
       "      <th>Сестрорецк</th>\n",
       "      <td>98341.232227</td>\n",
       "      <td>101232.408917</td>\n",
       "      <td>163</td>\n",
       "    </tr>\n",
       "    <tr>\n",
       "      <th>Пушкин</th>\n",
       "      <td>97938.144330</td>\n",
       "      <td>102074.629153</td>\n",
       "      <td>307</td>\n",
       "    </tr>\n",
       "    <tr>\n",
       "      <th>Кудрово</th>\n",
       "      <td>94594.594595</td>\n",
       "      <td>94408.041602</td>\n",
       "      <td>441</td>\n",
       "    </tr>\n",
       "    <tr>\n",
       "      <th>Парголово</th>\n",
       "      <td>91387.362637</td>\n",
       "      <td>89505.043917</td>\n",
       "      <td>302</td>\n",
       "    </tr>\n",
       "    <tr>\n",
       "      <th>Стрельна</th>\n",
       "      <td>87323.348694</td>\n",
       "      <td>89112.408096</td>\n",
       "      <td>38</td>\n",
       "    </tr>\n",
       "    <tr>\n",
       "      <th>Мурино</th>\n",
       "      <td>86075.949367</td>\n",
       "      <td>85743.233293</td>\n",
       "      <td>551</td>\n",
       "    </tr>\n",
       "    <tr>\n",
       "      <th>Павловск</th>\n",
       "      <td>85454.545455</td>\n",
       "      <td>83696.923067</td>\n",
       "      <td>31</td>\n",
       "    </tr>\n",
       "    <tr>\n",
       "      <th>Петергоф</th>\n",
       "      <td>81459.977130</td>\n",
       "      <td>83267.186375</td>\n",
       "      <td>176</td>\n",
       "    </tr>\n",
       "  </tbody>\n",
       "</table>\n",
       "</div>"
      ],
      "text/plain": [
       "                        median           mean  count\n",
       "locality_name                                       \n",
       "Санкт-Петербург  103052.015176  112403.495726  13666\n",
       "Зеленогорск      100000.000000  111332.344382     21\n",
       "Сестрорецк        98341.232227  101232.408917    163\n",
       "Пушкин            97938.144330  102074.629153    307\n",
       "Кудрово           94594.594595   94408.041602    441\n",
       "Парголово         91387.362637   89505.043917    302\n",
       "Стрельна          87323.348694   89112.408096     38\n",
       "Мурино            86075.949367   85743.233293    551\n",
       "Павловск          85454.545455   83696.923067     31\n",
       "Петергоф          81459.977130   83267.186375    176"
      ]
     },
     "metadata": {},
     "output_type": "display_data"
    },
    {
     "data": {
      "text/plain": [
       "'Самые дешевые:'"
      ]
     },
     "metadata": {},
     "output_type": "display_data"
    },
    {
     "data": {
      "text/html": [
       "<div>\n",
       "<style scoped>\n",
       "    .dataframe tbody tr th:only-of-type {\n",
       "        vertical-align: middle;\n",
       "    }\n",
       "\n",
       "    .dataframe tbody tr th {\n",
       "        vertical-align: top;\n",
       "    }\n",
       "\n",
       "    .dataframe thead th {\n",
       "        text-align: right;\n",
       "    }\n",
       "</style>\n",
       "<table border=\"1\" class=\"dataframe\">\n",
       "  <thead>\n",
       "    <tr style=\"text-align: right;\">\n",
       "      <th></th>\n",
       "      <th>median</th>\n",
       "      <th>mean</th>\n",
       "      <th>count</th>\n",
       "    </tr>\n",
       "    <tr>\n",
       "      <th>locality_name</th>\n",
       "      <th></th>\n",
       "      <th></th>\n",
       "      <th></th>\n",
       "    </tr>\n",
       "  </thead>\n",
       "  <tbody>\n",
       "    <tr>\n",
       "      <th>Кириши</th>\n",
       "      <td>37671.232877</td>\n",
       "      <td>38287.019023</td>\n",
       "      <td>93</td>\n",
       "    </tr>\n",
       "    <tr>\n",
       "      <th>Сясьстрой</th>\n",
       "      <td>35483.870968</td>\n",
       "      <td>34834.588060</td>\n",
       "      <td>17</td>\n",
       "    </tr>\n",
       "    <tr>\n",
       "      <th>Любань</th>\n",
       "      <td>35391.566265</td>\n",
       "      <td>36451.507309</td>\n",
       "      <td>11</td>\n",
       "    </tr>\n",
       "    <tr>\n",
       "      <th>Волхов</th>\n",
       "      <td>34545.454545</td>\n",
       "      <td>34883.232217</td>\n",
       "      <td>85</td>\n",
       "    </tr>\n",
       "    <tr>\n",
       "      <th>Ивангород</th>\n",
       "      <td>31480.186480</td>\n",
       "      <td>33309.046924</td>\n",
       "      <td>22</td>\n",
       "    </tr>\n",
       "    <tr>\n",
       "      <th>Назия</th>\n",
       "      <td>31308.182264</td>\n",
       "      <td>30710.929741</td>\n",
       "      <td>14</td>\n",
       "    </tr>\n",
       "    <tr>\n",
       "      <th>Лодейное Поле</th>\n",
       "      <td>28448.275862</td>\n",
       "      <td>32186.484620</td>\n",
       "      <td>19</td>\n",
       "    </tr>\n",
       "    <tr>\n",
       "      <th>Пикалёво</th>\n",
       "      <td>18895.348837</td>\n",
       "      <td>18661.587821</td>\n",
       "      <td>17</td>\n",
       "    </tr>\n",
       "    <tr>\n",
       "      <th>Сланцы</th>\n",
       "      <td>18666.666667</td>\n",
       "      <td>18394.956815</td>\n",
       "      <td>91</td>\n",
       "    </tr>\n",
       "    <tr>\n",
       "      <th>Бокситогорск</th>\n",
       "      <td>16792.929293</td>\n",
       "      <td>17146.368775</td>\n",
       "      <td>14</td>\n",
       "    </tr>\n",
       "  </tbody>\n",
       "</table>\n",
       "</div>"
      ],
      "text/plain": [
       "                     median          mean  count\n",
       "locality_name                                   \n",
       "Кириши         37671.232877  38287.019023     93\n",
       "Сясьстрой      35483.870968  34834.588060     17\n",
       "Любань         35391.566265  36451.507309     11\n",
       "Волхов         34545.454545  34883.232217     85\n",
       "Ивангород      31480.186480  33309.046924     22\n",
       "Назия          31308.182264  30710.929741     14\n",
       "Лодейное Поле  28448.275862  32186.484620     19\n",
       "Пикалёво       18895.348837  18661.587821     17\n",
       "Сланцы         18666.666667  18394.956815     91\n",
       "Бокситогорск   16792.929293  17146.368775     14"
      ]
     },
     "metadata": {},
     "output_type": "display_data"
    }
   ],
   "source": [
    "data_price = (data_full\n",
    "                  .pivot_table(index='locality_name',\n",
    "                               values='meter_price', \n",
    "                               aggfunc=['median', 'mean', 'count'])\n",
    "                  )\n",
    "data_price.columns = ['median', 'mean', 'count']\n",
    "data_price = data_price[data_price['count']>10].sort_values(by='median',ascending=False)\n",
    "display('Самые дорогие:', data_price.head(10), 'Самые дешевые:', data_price.tail(10))"
   ]
  },
  {
   "cell_type": "markdown",
   "id": "1b2aeb59",
   "metadata": {},
   "source": [
    "Убрал из списка населенные пункты, где меньше 10 предложений, т.к. считаю их не показательными. Стоимость $ м^2 $ различается на порядок."
   ]
  },
  {
   "cell_type": "code",
   "execution_count": 37,
   "id": "f8187308",
   "metadata": {},
   "outputs": [
    {
     "data": {
      "text/html": [
       "<div>\n",
       "<style scoped>\n",
       "    .dataframe tbody tr th:only-of-type {\n",
       "        vertical-align: middle;\n",
       "    }\n",
       "\n",
       "    .dataframe tbody tr th {\n",
       "        vertical-align: top;\n",
       "    }\n",
       "\n",
       "    .dataframe thead th {\n",
       "        text-align: right;\n",
       "    }\n",
       "</style>\n",
       "<table border=\"1\" class=\"dataframe\">\n",
       "  <thead>\n",
       "    <tr style=\"text-align: right;\">\n",
       "      <th></th>\n",
       "      <th>median</th>\n",
       "      <th>mean</th>\n",
       "      <th>count</th>\n",
       "    </tr>\n",
       "    <tr>\n",
       "      <th>locality_name</th>\n",
       "      <th></th>\n",
       "      <th></th>\n",
       "      <th></th>\n",
       "    </tr>\n",
       "  </thead>\n",
       "  <tbody>\n",
       "    <tr>\n",
       "      <th>Санкт-Петербург</th>\n",
       "      <td>103052.015176</td>\n",
       "      <td>112403.495726</td>\n",
       "      <td>13666</td>\n",
       "    </tr>\n",
       "    <tr>\n",
       "      <th>Мурино</th>\n",
       "      <td>86075.949367</td>\n",
       "      <td>85743.233293</td>\n",
       "      <td>551</td>\n",
       "    </tr>\n",
       "    <tr>\n",
       "      <th>Кудрово</th>\n",
       "      <td>94594.594595</td>\n",
       "      <td>94408.041602</td>\n",
       "      <td>441</td>\n",
       "    </tr>\n",
       "    <tr>\n",
       "      <th>Шушары</th>\n",
       "      <td>76220.394737</td>\n",
       "      <td>78010.167480</td>\n",
       "      <td>408</td>\n",
       "    </tr>\n",
       "    <tr>\n",
       "      <th>Всеволожск</th>\n",
       "      <td>65789.473684</td>\n",
       "      <td>68570.615292</td>\n",
       "      <td>339</td>\n",
       "    </tr>\n",
       "    <tr>\n",
       "      <th>Колпино</th>\n",
       "      <td>74005.089610</td>\n",
       "      <td>74865.364347</td>\n",
       "      <td>308</td>\n",
       "    </tr>\n",
       "    <tr>\n",
       "      <th>Пушкин</th>\n",
       "      <td>97938.144330</td>\n",
       "      <td>102074.629153</td>\n",
       "      <td>307</td>\n",
       "    </tr>\n",
       "    <tr>\n",
       "      <th>Парголово</th>\n",
       "      <td>91387.362637</td>\n",
       "      <td>89505.043917</td>\n",
       "      <td>302</td>\n",
       "    </tr>\n",
       "    <tr>\n",
       "      <th>Гатчина</th>\n",
       "      <td>67180.706522</td>\n",
       "      <td>67928.326990</td>\n",
       "      <td>268</td>\n",
       "    </tr>\n",
       "    <tr>\n",
       "      <th>Выборг</th>\n",
       "      <td>56960.594315</td>\n",
       "      <td>57084.582948</td>\n",
       "      <td>208</td>\n",
       "    </tr>\n",
       "  </tbody>\n",
       "</table>\n",
       "</div>"
      ],
      "text/plain": [
       "                        median           mean  count\n",
       "locality_name                                       \n",
       "Санкт-Петербург  103052.015176  112403.495726  13666\n",
       "Мурино            86075.949367   85743.233293    551\n",
       "Кудрово           94594.594595   94408.041602    441\n",
       "Шушары            76220.394737   78010.167480    408\n",
       "Всеволожск        65789.473684   68570.615292    339\n",
       "Колпино           74005.089610   74865.364347    308\n",
       "Пушкин            97938.144330  102074.629153    307\n",
       "Парголово         91387.362637   89505.043917    302\n",
       "Гатчина           67180.706522   67928.326990    268\n",
       "Выборг            56960.594315   57084.582948    208"
      ]
     },
     "metadata": {},
     "output_type": "display_data"
    }
   ],
   "source": [
    "data.groupby('locality_name').agg({'balcony':'count'}).sort_values(by = 'balcony', ascending = False).head(10)\n",
    "display(data_price.sort_values(by='count',ascending=False).head(10))"
   ]
  },
  {
   "cell_type": "markdown",
   "id": "79b133ed",
   "metadata": {},
   "source": [
    "#### \"Стоимость километра\""
   ]
  },
  {
   "cell_type": "code",
   "execution_count": 38,
   "id": "6bbd45ec",
   "metadata": {},
   "outputs": [
    {
     "data": {
      "text/html": [
       "<div>\n",
       "<style scoped>\n",
       "    .dataframe tbody tr th:only-of-type {\n",
       "        vertical-align: middle;\n",
       "    }\n",
       "\n",
       "    .dataframe tbody tr th {\n",
       "        vertical-align: top;\n",
       "    }\n",
       "\n",
       "    .dataframe thead th {\n",
       "        text-align: right;\n",
       "    }\n",
       "</style>\n",
       "<table border=\"1\" class=\"dataframe\">\n",
       "  <thead>\n",
       "    <tr style=\"text-align: right;\">\n",
       "      <th></th>\n",
       "      <th>cityCenters_nearest_km</th>\n",
       "      <th>last_price</th>\n",
       "      <th>meter_price</th>\n",
       "    </tr>\n",
       "  </thead>\n",
       "  <tbody>\n",
       "    <tr>\n",
       "      <th>cityCenters_nearest_km</th>\n",
       "      <td>1.000000</td>\n",
       "      <td>-0.736701</td>\n",
       "      <td>-0.739063</td>\n",
       "    </tr>\n",
       "    <tr>\n",
       "      <th>last_price</th>\n",
       "      <td>-0.736701</td>\n",
       "      <td>1.000000</td>\n",
       "      <td>0.876780</td>\n",
       "    </tr>\n",
       "    <tr>\n",
       "      <th>meter_price</th>\n",
       "      <td>-0.739063</td>\n",
       "      <td>0.876780</td>\n",
       "      <td>1.000000</td>\n",
       "    </tr>\n",
       "  </tbody>\n",
       "</table>\n",
       "</div>"
      ],
      "text/plain": [
       "                        cityCenters_nearest_km  last_price  meter_price\n",
       "cityCenters_nearest_km                1.000000   -0.736701    -0.739063\n",
       "last_price                           -0.736701    1.000000     0.876780\n",
       "meter_price                          -0.739063    0.876780     1.000000"
      ]
     },
     "execution_count": 38,
     "metadata": {},
     "output_type": "execute_result"
    },
    {
     "data": {
      "image/png": "[encoded data removed]",
      "text/plain": [
       "<Figure size 432x288 with 1 Axes>"
      ]
     },
     "metadata": {
      "needs_background": "light"
     },
     "output_type": "display_data"
    },
    {
     "data": {
      "image/png": "[encoded data removed]",
      "text/plain": [
       "<Figure size 432x288 with 1 Axes>"
      ]
     },
     "metadata": {
      "needs_background": "light"
     },
     "output_type": "display_data"
    }
   ],
   "source": [
    "data_price_km = (data_full\n",
    "                 .query('locality_name == \"Санкт-Петербург\"')\n",
    "                 .pivot_table(index='cityCenters_nearest_km',\n",
    "                              values=['meter_price',\n",
    "                                      'last_price'],\n",
    "                              aggfunc='median')\n",
    "                 .reset_index(level=0)\n",
    "                )\n",
    "data_price_km.plot.scatter(x='cityCenters_nearest_km', \n",
    "                           y='meter_price', \n",
    "                           grid=True ,\n",
    "                          title = 'Цена за метр')\n",
    "data_price_km.plot.scatter(x='cityCenters_nearest_km', \n",
    "                           y='last_price', \n",
    "                           grid=True ,\n",
    "                          title = 'Общая стоимость')\n",
    "data_price_km.corr()"
   ]
  },
  {
   "cell_type": "markdown",
   "id": "3de6a94a",
   "metadata": {},
   "source": [
    "Стоимость квадратного метра падает почти линейно в зависимости от расстояния до центра. Цена квартир резко падает от 0 до 10 км после чего почти не меняется."
   ]
  },
  {
   "cell_type": "markdown",
   "id": "d3b85e5f",
   "metadata": {},
   "source": [
    "### Общий вывод"
   ]
  },
  {
   "cell_type": "markdown",
   "id": "a4877ee1",
   "metadata": {},
   "source": [
    "Провел анализ рынка жилья в Санкт-Петербурге, для этого заполнил пропуски в некоторых столбцах, избавился от некорректных значений. Стандартизировал названия населенных пунктов.<br>\n",
    "Добавил столбцы со значениями:\n",
    " <ul>\n",
    "         <li>цена одного квадратного метра</li>\n",
    "         <li>день недели, месяц и год публикации объявления </li>\n",
    "         <li>тип этажа квартиры</li>\n",
    "         <li>расстояние до центра города в километрах</li>\n",
    " </ul>\n",
    "Провел исследование зависимости цены от таких параметров как:\n",
    "    <ul>\n",
    "         <li>общая площадь, жилая площадь и площадь кухни</li>\n",
    "         <li>количество комнат</li>\n",
    "         <li>тип этажа квартиры</li>\n",
    "         <li>расстояние до центра города в километрах</li>\n",
    "         <li>дата, день недели и месяц размещения объявления</li>\n",
    "    </ul>\n",
    "    \n",
    "Как и предполагалось, чем больше квартира и чем ближе она к центру города, тем она дороже. Жилье на первом и последнем этажах значительно дешевле, за исключением элитных пентхаусов. Количество объявлений зависит от времени года, в декабре, январе и марте появляется значительно меньше объявлений."
   ]
  }
 ],
 "metadata": {
  "kernelspec": {
   "display_name": "Python 3 (ipykernel)",
   "language": "python",
   "name": "python3"
  },
  "language_info": {
   "codemirror_mode": {
    "name": "ipython",
    "version": 3
   },
   "file_extension": ".py",
   "mimetype": "text/x-python",
   "name": "python",
   "nbconvert_exporter": "python",
   "pygments_lexer": "ipython3",
   "version": "3.9.12"
  }
 },
 "nbformat": 4,
 "nbformat_minor": 5
}
